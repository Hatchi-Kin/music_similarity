{
 "cells": [
  {
   "cell_type": "code",
   "execution_count": 1,
   "metadata": {},
   "outputs": [],
   "source": [
    "from utils.music_utils import *\n",
    "from pathlib import Path\n",
    "import sqlite3\n",
    "import logging\n",
    "from typing import Tuple, Optional"
   ]
  },
  {
   "cell_type": "code",
   "execution_count": 2,
   "metadata": {},
   "outputs": [
    {
     "name": "stdout",
     "output_type": "stream",
     "text": [
      "Valid files: 11637\n",
      "Invalid files: 0\n"
     ]
    }
   ],
   "source": [
    "DATASET = Path(\"MegaSet\")\n",
    "SQLITE_INSTANCE = \"music.db\"\n",
    "pkl_files = list(DATASET.rglob(\"*.pkl\"))\n",
    "valid_files = [check_file_info(pkl_file) for pkl_file in pkl_files]\n",
    "invalid_files = [pkl_file for pkl_file, valid in zip(pkl_files, valid_files) if not valid]\n",
    "print(f\"Valid files: {len(valid_files)}\")\n",
    "print(f\"Invalid files: {len(invalid_files)}\")"
   ]
  },
  {
   "cell_type": "code",
   "execution_count": 3,
   "metadata": {},
   "outputs": [
    {
     "name": "stdout",
     "output_type": "stream",
     "text": [
      "No invalid files found\n"
     ]
    }
   ],
   "source": [
    "# pick random invalid file and print_info\n",
    "import random\n",
    "if invalid_files:\n",
    "    random_invalid_file = random.choice(invalid_files)\n",
    "    print_info(random_invalid_file)\n",
    "else:\n",
    "    print(\"No invalid files found\")"
   ]
  },
  {
   "cell_type": "code",
   "execution_count": 4,
   "metadata": {},
   "outputs": [],
   "source": [
    "def get_data(mp3_file: Path) -> dict:\n",
    "    pkl_path = mp3_file.with_suffix(\".pkl\")\n",
    "    with open(pkl_path, \"rb\") as f:\n",
    "        data = pickle.load(f)\n",
    "    data.pop(\"predictions_87\", None)\n",
    "    data.pop(\"embedding_512\", None)\n",
    "    data[\"mp3_path\"] = str(mp3_file)\n",
    "    return data"
   ]
  },
  {
   "cell_type": "code",
   "execution_count": 5,
   "metadata": {},
   "outputs": [
    {
     "name": "stdout",
     "output_type": "stream",
     "text": [
      "filename: 001 This Is.mp3\n",
      "filepath: MegaSet/Jurassic 5/Jurassic 5 - Power In Numbers (2002)/001 This Is.mp3\n",
      "folder: MegaSet/Jurassic 5/Jurassic 5 - Power In Numbers (2002)\n",
      "filesize: 1.3\n",
      "title: This Is\n",
      "artist: Jurassic 5\n",
      "album: Power in Numbers\n",
      "year: 2002\n",
      "tracknumber: 1\n",
      "genre: Rap & Hip-Hop\n",
      "top_5_genres: ['electronic', 'reggae', 'experimental', 'hiphop', 'alternative']\n",
      "mp3_path: MegaSet/Jurassic 5/Jurassic 5 - Power In Numbers (2002)/001 This Is.mp3\n"
     ]
    }
   ],
   "source": [
    "rdm_mp3 = pick_random_mp3(DATASET)\n",
    "rdm_mp3_data = get_data(rdm_mp3)\n",
    "\n",
    "print(\"\\n\".join(f\"{key}: {value}\" for key, value in rdm_mp3_data.items()))"
   ]
  },
  {
   "cell_type": "code",
   "execution_count": 6,
   "metadata": {},
   "outputs": [],
   "source": [
    "def create_tables(self):\n",
    "    try:\n",
    "        with sqlite3.connect(self) as conn:\n",
    "            c = conn.cursor()\n",
    "\n",
    "            c.execute(\n",
    "                \"\"\"\n",
    "                CREATE TABLE IF NOT EXISTS songs(\n",
    "                    id INTEGER PRIMARY KEY,\n",
    "                    filename TEXT NOT NULL,\n",
    "                    filepath TEXT NOT NULL,\n",
    "                    album_folder TEXT NOT NULL,\n",
    "                    artist_folder TEXT NOT NULL,\n",
    "                    filesize REAL NOT NULL,\n",
    "                    title TEXT NOT NULL,\n",
    "                    artist TEXT NOT NULL,\n",
    "                    album TEXT NOT NULL,\n",
    "                    year INTEGER,\n",
    "                    tracknumber INTEGER,\n",
    "                    genre TEXT,\n",
    "                    top_5_genres TEXT\n",
    "                )\n",
    "                \"\"\"\n",
    "            )\n",
    "\n",
    "    except sqlite3.Error as e:\n",
    "        logging.error(f\"An error occurred in create_tables: {e}\")\n",
    "\n",
    "\n",
    "create_tables(SQLITE_INSTANCE)"
   ]
  },
  {
   "cell_type": "code",
   "execution_count": 7,
   "metadata": {},
   "outputs": [],
   "source": [
    "class Song:\n",
    "    def __init__(\n",
    "        self,\n",
    "        filename: str,\n",
    "        filepath: str,\n",
    "        album_folder: str,\n",
    "        artist_folder: str,\n",
    "        filesize: float,\n",
    "        title: str,\n",
    "        artist: str,\n",
    "        album: str,\n",
    "        year: int,\n",
    "        tracknumber: int,\n",
    "        genre: str,\n",
    "        top_5_genres: str,\n",
    "    ):\n",
    "        self.filename = filename\n",
    "        self.filepath = filepath\n",
    "        self.album_folder = album_folder\n",
    "        self.artist_folder = artist_folder\n",
    "        self.filesize = filesize\n",
    "        self.title = title\n",
    "        self.artist = artist\n",
    "        self.album = album\n",
    "        self.year = year if year else None\n",
    "        self.tracknumber = tracknumber  if tracknumber else None\n",
    "        self.genre = genre  if genre else None\n",
    "        self.top_5_genres = (\n",
    "            top_5_genres if type(top_5_genres) == str else \", \".join(top_5_genres)\n",
    "        )\n",
    "\n",
    "class DatabaseManager:\n",
    "    def __init__(self, db_path: str):\n",
    "        self.conn = sqlite3.connect(db_path, check_same_thread=False)\n",
    "\n",
    "    def close(self):\n",
    "        self.conn.close()\n",
    "\n",
    "    def execute(self, query: str, params: Tuple = ()) -> None:\n",
    "        try:\n",
    "            with self.conn:\n",
    "                self.conn.execute(query, params)\n",
    "                self.conn.commit()\n",
    "        except sqlite3.Error as e:\n",
    "            logging.error(f\"An error occurred: {e}\")\n",
    "\n",
    "    def fetchone(self, query: str, params: Tuple = ()) -> Optional[Tuple]:\n",
    "        try:\n",
    "            with self.conn:\n",
    "                return self.conn.execute(query, params).fetchone()\n",
    "        except sqlite3.Error as e:\n",
    "            logging.error(f\"An error occurred: {e}\")\n",
    "\n",
    "    def fetchall(self, query: str, params: Tuple = ()) -> Optional[Tuple]:\n",
    "        try:\n",
    "            with self.conn:\n",
    "                return self.conn.execute(query, params).fetchall()\n",
    "        except sqlite3.Error as e:\n",
    "            logging.error(f\"An error occurred: {e}\")\n",
    "\n",
    "    def count_songs(self) -> int:\n",
    "        query = \"SELECT COUNT(*) FROM songs\"\n",
    "        return self.fetchone(query)[0]\n",
    "\n",
    "    def insert_song(self, song: Song) -> None:\n",
    "        song_data = (\n",
    "            song.filename,\n",
    "            song.filepath,\n",
    "            song.album_folder,\n",
    "            song.artist_folder,\n",
    "            song.filesize,\n",
    "            song.title,\n",
    "            song.artist,\n",
    "            song.album,\n",
    "            song.year,\n",
    "            song.tracknumber,\n",
    "            song.genre,\n",
    "            song.top_5_genres,\n",
    "        )\n",
    "        query = \"SELECT * FROM songs WHERE filename = ? AND filepath = ?\"\n",
    "        existing_song = self.fetchone(query, (song.filename, song.filepath))\n",
    "        if existing_song:\n",
    "            return\n",
    "        query = \"\"\"\n",
    "            INSERT INTO songs \n",
    "            (filename, filepath, album_folder, artist_folder, filesize, title, artist, album, year, tracknumber, genre, top_5_genres) \n",
    "            VALUES (?, ?, ?, ?, ?, ?, ?, ?, ?, ?, ?, ?)\n",
    "        \"\"\"\n",
    "        self.execute(query, song_data)"
   ]
  },
  {
   "cell_type": "code",
   "execution_count": 8,
   "metadata": {},
   "outputs": [],
   "source": [
    "def pkl_to_dict(mp3_file: Path) -> Song:\n",
    "    pkl_path = mp3_file.with_suffix(\".pkl\")\n",
    "    with open(pkl_path, \"rb\") as f:\n",
    "        data = pickle.load(f)\n",
    "    data.pop(\"predictions_87\", None)\n",
    "    data.pop(\"embedding_512\", None)\n",
    "    data['artist_folder'] = data['filepath'].split(\"/\")[1]\n",
    "    song = Song(data[\"filename\"], \n",
    "                data[\"filepath\"], \n",
    "                data[\"folder\"],\n",
    "                data[\"artist_folder\"],\n",
    "                data[\"filesize\"], \n",
    "                data[\"title\"], \n",
    "                data[\"artist\"], \n",
    "                data[\"album\"],\n",
    "                data[\"year\"],\n",
    "                data[\"tracknumber\"],\n",
    "                data[\"genre\"],\n",
    "                \",\".join(data[\"top_5_genres\"])\n",
    "                )\n",
    "    return song"
   ]
  },
  {
   "cell_type": "code",
   "execution_count": 9,
   "metadata": {},
   "outputs": [],
   "source": [
    "db = DatabaseManager(SQLITE_INSTANCE)\n",
    "\n",
    "song = pkl_to_dict(rdm_mp3)\n",
    "db.insert_song(song)"
   ]
  },
  {
   "cell_type": "code",
   "execution_count": 10,
   "metadata": {},
   "outputs": [
    {
     "data": {
      "text/plain": [
       "(1,\n",
       " '001 This Is.mp3',\n",
       " 'MegaSet/Jurassic 5/Jurassic 5 - Power In Numbers (2002)/001 This Is.mp3',\n",
       " 'MegaSet/Jurassic 5/Jurassic 5 - Power In Numbers (2002)',\n",
       " 'Jurassic 5',\n",
       " 1.3,\n",
       " 'This Is',\n",
       " 'Jurassic 5',\n",
       " 'Power in Numbers',\n",
       " 2002,\n",
       " 1,\n",
       " 'Rap & Hip-Hop',\n",
       " 'electronic,reggae,experimental,hiphop,alternative')"
      ]
     },
     "execution_count": 10,
     "metadata": {},
     "output_type": "execute_result"
    }
   ],
   "source": [
    "db.fetchall(\"SELECT * FROM songs\")[0]"
   ]
  },
  {
   "cell_type": "code",
   "execution_count": 11,
   "metadata": {},
   "outputs": [
    {
     "data": {
      "text/plain": [
       "11637"
      ]
     },
     "execution_count": 11,
     "metadata": {},
     "output_type": "execute_result"
    }
   ],
   "source": [
    "# loop over every file in DATASET and, read every .pkl into a Song object \n",
    "# and insert it into the database\n",
    "\n",
    "for pkl_file in pkl_files:\n",
    "    song = pkl_to_dict(pkl_file)\n",
    "    db.insert_song(song)\n",
    "\n",
    "# 27.7s\n",
    "\n",
    "db.count_songs()"
   ]
  },
  {
   "cell_type": "code",
   "execution_count": 12,
   "metadata": {},
   "outputs": [
    {
     "data": {
      "text/plain": [
       "id                  0\n",
       "filename            0\n",
       "filepath            0\n",
       "album_folder        0\n",
       "artist_folder       0\n",
       "filesize            0\n",
       "title               0\n",
       "artist              0\n",
       "album               0\n",
       "year               28\n",
       "tracknumber        46\n",
       "genre            1262\n",
       "top_5_genres        0\n",
       "dtype: int64"
      ]
     },
     "execution_count": 12,
     "metadata": {},
     "output_type": "execute_result"
    }
   ],
   "source": [
    "# create a pandas dataframe from the database\n",
    "import pandas as pd\n",
    "\n",
    "query = \"SELECT * FROM songs\"\n",
    "df = pd.read_sql_query(query, db.conn)\n",
    "\n",
    "df.isna().sum()"
   ]
  },
  {
   "cell_type": "code",
   "execution_count": 13,
   "metadata": {},
   "outputs": [],
   "source": [
    "import musicbrainzngs\n",
    "\n",
    "musicbrainzngs.set_rate_limit(limit_or_interval=1.0, new_requests=10)\n",
    "# If you plan to submit data, authenticate\n",
    "# musicbrainzngs.auth(\"user\", \"password\")\n",
    "\n",
    "# (this step is required, as per the webservice access rules\n",
    "# at http://wiki.musicbrainz.org/XML_Web_Service/Rate_Limiting )\n",
    "musicbrainzngs.set_useragent(\"Music_Recommandation_Milvus\", \"0.1\", \"https://github.com/Hatchi-Kin/music_similarity\")\n",
    "\n",
    "# If you are connecting to a different server\n",
    "# musicbrainzngs.set_hostname(\"beta.musicbrainz.org\")"
   ]
  },
  {
   "cell_type": "code",
   "execution_count": 14,
   "metadata": {},
   "outputs": [
    {
     "name": "stdout",
     "output_type": "stream",
     "text": [
      "Request was successful\n"
     ]
    },
    {
     "data": {
      "text/plain": [
       "{'id': '6838bf7e-b70d-3299-b9eb-8f5ec90d5229',\n",
       " 'type': 'Album',\n",
       " 'ext:score': '100',\n",
       " 'title': 'Moby',\n",
       " 'first-release-date': '1992-07-27',\n",
       " 'primary-type': 'Album',\n",
       " 'artist-credit': [{'name': 'Moby',\n",
       "   'artist': {'id': '8970d868-0723-483b-a75b-51088913d3d4',\n",
       "    'name': 'Moby',\n",
       "    'sort-name': 'Moby',\n",
       "    'disambiguation': 'electronic musician Richard Melville Hall',\n",
       "    'alias-list': [{'locale': 'ja',\n",
       "      'sort-name': 'モービー',\n",
       "      'type': 'Artist name',\n",
       "      'alias': 'モービー'},\n",
       "     {'locale': 'en',\n",
       "      'sort-name': 'DJ Moby',\n",
       "      'type': 'Artist name',\n",
       "      'alias': 'DJ Moby'},\n",
       "     {'locale': 'en',\n",
       "      'sort-name': 'Moby',\n",
       "      'type': 'Artist name',\n",
       "      'primary': 'primary',\n",
       "      'alias': 'Moby'}]}}],\n",
       " 'release-list': [{'id': '2587659e-7469-4a63-896c-3f4571b0689b',\n",
       "   'title': 'Moby',\n",
       "   'status': 'Official'},\n",
       "  {'id': '45dff336-26bb-4e9a-8a9d-9c40b7f480bc',\n",
       "   'title': 'Moby',\n",
       "   'status': 'Official'},\n",
       "  {'id': '51dd83d1-0803-480f-8d8f-9efddf7a42d2',\n",
       "   'title': 'Moby',\n",
       "   'status': 'Official'},\n",
       "  {'id': '3fdf1e1d-b7b0-4f61-b860-ef40408dfffb',\n",
       "   'title': 'The Story So Far',\n",
       "   'status': 'Official'},\n",
       "  {'id': '3f315e99-933f-4891-abb9-0b33757a3e08',\n",
       "   'title': 'Moby',\n",
       "   'status': 'Official'},\n",
       "  {'id': '4eadc11d-2239-3d7f-bec9-681c6dd6f210',\n",
       "   'title': 'The Story So Far',\n",
       "   'status': 'Official'},\n",
       "  {'id': '7e38281b-e051-4d97-9528-7f3ec66b5306',\n",
       "   'title': 'The Story So Far',\n",
       "   'status': 'Official'},\n",
       "  {'id': 'f44810e9-189b-398a-8248-95aa005f4d5c',\n",
       "   'title': 'Moby',\n",
       "   'status': 'Official'},\n",
       "  {'id': 'dcb46282-9acf-42c7-8a27-bbdb333a7e95',\n",
       "   'title': 'Moby',\n",
       "   'status': 'Official'},\n",
       "  {'id': '1f1c9226-ec0c-4c71-826d-b3afa94e6e6b',\n",
       "   'title': 'Moby',\n",
       "   'status': 'Official'},\n",
       "  {'id': '63c671c5-bd00-4c14-954f-7c259288a2d0',\n",
       "   'title': 'Moby',\n",
       "   'status': 'Official'}],\n",
       " 'release-count': 11,\n",
       " 'tag-list': [{'count': '1', 'name': 'trance'},\n",
       "  {'count': '7', 'name': 'electronic'},\n",
       "  {'count': '1', 'name': 'rave'},\n",
       "  {'count': '2', 'name': '90s'},\n",
       "  {'count': '2', 'name': 'dance'},\n",
       "  {'count': '2', 'name': 'deep house'},\n",
       "  {'count': '3', 'name': 'techno'},\n",
       "  {'count': '1', 'name': 'electronica'},\n",
       "  {'count': '2', 'name': 'progressive house'},\n",
       "  {'count': '3', 'name': 'acid house'},\n",
       "  {'count': '1', 'name': 'porn groove'},\n",
       "  {'count': '1', 'name': 'moby'}],\n",
       " 'artist-credit-phrase': 'Moby'}"
      ]
     },
     "execution_count": 14,
     "metadata": {},
     "output_type": "execute_result"
    }
   ],
   "source": [
    "try:\n",
    "    result = musicbrainzngs.search_release_groups(\"Moby\", \"Play\")\n",
    "    print(\"Request was successful\")\n",
    "except musicbrainzngs.NetworkError:\n",
    "    print(\"Service is unavailable\")\n",
    "except musicbrainzngs.MusicBrainzError as e:\n",
    "    print(f\"An error occurred: {e}\")\n",
    "\n",
    "result['release-group-list'][0]"
   ]
  },
  {
   "cell_type": "code",
   "execution_count": 15,
   "metadata": {},
   "outputs": [
    {
     "name": "stdout",
     "output_type": "stream",
     "text": [
      "07833ad1-9638-3127-804a-e5a7d4e2ad21\n"
     ]
    }
   ],
   "source": [
    "def get_album_id(artist, album):\n",
    "    result = musicbrainzngs.search_releases(artist=artist, release=album)\n",
    "    if result['release-list']:\n",
    "        # If there's a result, take the first one\n",
    "        first_result = result['release-list'][0]\n",
    "        return first_result['id']\n",
    "    else:\n",
    "        return None\n",
    "\n",
    "# Replace 'Artist Name' and 'Album Name' with the artist and album you're interested in\n",
    "print(get_album_id('Moby', 'Play'))"
   ]
  },
  {
   "cell_type": "code",
   "execution_count": 16,
   "metadata": {},
   "outputs": [
    {
     "name": "stdout",
     "output_type": "stream",
     "text": [
      "1999\n"
     ]
    }
   ],
   "source": [
    "def get_album_year_by_id(album_id):\n",
    "        release_info = musicbrainzngs.get_release_by_id(album_id, includes=[\"release-groups\"])\n",
    "        date = release_info['release']['release-group']['first-release-date']\n",
    "        # The date is usually in the format 'YYYY-MM-DD', so we take the first 4 characters to get the year\n",
    "        year = date[:4]\n",
    "        return year\n",
    "\n",
    "# Replace 'Artist Name' and 'Album Name' with the artist and album you're interested in\n",
    "print(get_album_year_by_id('07833ad1-9638-3127-804a-e5a7d4e2ad21'))"
   ]
  },
  {
   "cell_type": "code",
   "execution_count": 17,
   "metadata": {},
   "outputs": [
    {
     "name": "stdout",
     "output_type": "stream",
     "text": [
      "Number of errors: 14\n"
     ]
    }
   ],
   "source": [
    "# for every row in sqlite that has a None value for year,\n",
    "# get the album_id and then the year and update the row in sqlite and the pkl file\n",
    "\n",
    "errors = 0\n",
    "year_none = db.fetchall(\"SELECT * FROM songs WHERE year IS NULL\")\n",
    "for row in year_none:\n",
    "    album_id = get_album_id(row[6], row[5])\n",
    "    if album_id:\n",
    "        year = get_album_year_by_id(album_id)\n",
    "        db.execute(\"UPDATE songs SET year = ? WHERE filename = ? AND filepath = ?\", (year, row[1], row[2]))\n",
    "        pkl_path = Path(row[2]).with_suffix(\".pkl\")\n",
    "        with open(pkl_path, \"rb\") as f:\n",
    "            data = pickle.load(f)\n",
    "        data[\"year\"] = year\n",
    "        with open(pkl_path, \"wb\") as f:\n",
    "            pickle.dump(data, f)\n",
    "    else:\n",
    "        errors += 1\n",
    "\n",
    "# 9m 5.8s\n",
    "\n",
    "print(f\"Number of errors: {errors}\")"
   ]
  },
  {
   "cell_type": "code",
   "execution_count": 18,
   "metadata": {},
   "outputs": [
    {
     "data": {
      "text/plain": [
       "[(28,)]"
      ]
     },
     "execution_count": 18,
     "metadata": {},
     "output_type": "execute_result"
    }
   ],
   "source": [
    "# count the number of rows with a None value or an empty string for year\n",
    "\n",
    "db.fetchall(\"SELECT COUNT(*) FROM songs WHERE year IS NULL OR year = '' OR year = ' '\")"
   ]
  },
  {
   "cell_type": "code",
   "execution_count": 19,
   "metadata": {},
   "outputs": [],
   "source": [
    "# Get the list of rows of sqlite table where genre is None\n",
    "# read the .pkl file and get the first element of the top_5_genres list\n",
    "# and update the row's value for genre in sqlite\n",
    "\n",
    "genre_none = db.fetchall(\"SELECT * FROM songs WHERE genre IS NULL OR genre = '' OR genre = ' ' or genre = 'None'\")\n",
    "for row in genre_none:\n",
    "    song = pkl_to_dict(Path(row[2]))\n",
    "    genre = song.top_5_genres.split(\",\")[0]\n",
    "    db.execute(\"UPDATE songs SET genre = ? WHERE filename = ?\", (genre, row[1]))"
   ]
  },
  {
   "cell_type": "code",
   "execution_count": 20,
   "metadata": {},
   "outputs": [
    {
     "name": "stdout",
     "output_type": "stream",
     "text": [
      "id: 0\n",
      "filename: 0\n",
      "filepath: 0\n",
      "album_folder: 0\n",
      "artist_folder: 0\n",
      "filesize: 0\n",
      "title: 0\n",
      "artist: 0\n",
      "album: 0\n",
      "year: 14\n",
      "tracknumber: 46\n",
      "genre: 0\n",
      "top_5_genres: 0\n"
     ]
    }
   ],
   "source": [
    "# df.isna().sum() equivalent\n",
    "\n",
    "result = db.fetchall(\"PRAGMA table_info(songs)\")\n",
    "columns = [column[1] for column in result]\n",
    "\n",
    "# For each column, count the number of rows with NULL values\n",
    "for column in columns:\n",
    "    count = db.fetchone(f\"SELECT COUNT(*) FROM songs WHERE {column} IS NULL\")[0]\n",
    "    print(f\"{column}: {count}\")"
   ]
  },
  {
   "cell_type": "code",
   "execution_count": 21,
   "metadata": {},
   "outputs": [
    {
     "name": "stdout",
     "output_type": "stream",
     "text": [
      "Sinkane - Hold Tight.mp3\n",
      "Chinese man records - Bouncefloor.mp3\n",
      "Chinese man records - BB's Electrify BUGS.mp3\n",
      "Chinese man records - Searching for Hiero.mp3\n",
      "Chinese man records - Pudding à l'Arsenic.mp3\n"
     ]
    }
   ],
   "source": [
    "# Get the list of rows is sqlite that have a NULL value for tracknumber\n",
    "\n",
    "tracknumber_none = db.fetchall(\"SELECT * FROM songs WHERE tracknumber IS NULL OR tracknumber = '' OR tracknumber = ' '\")\n",
    "\n",
    "# print the first 5 rows of the list\n",
    "for row in tracknumber_none[:5]:\n",
    "    # print(row[9])\n",
    "    print(row[1])\n"
   ]
  },
  {
   "cell_type": "code",
   "execution_count": 22,
   "metadata": {},
   "outputs": [],
   "source": [
    "# read the value for filename and see if there is a str with two successive numbers\n",
    "# for example '05 - Les nuits parisiennes.mp3'. if there is, \n",
    "# extract the number and update the value for tracknumber in sqlite and the .pkl file\n",
    "    \n",
    "import re\n",
    "\n",
    "for row in tracknumber_none:\n",
    "    filename = row[1]\n",
    "    tracknumber = re.findall(r\"\\b\\d{2}\\b\", filename)\n",
    "    if tracknumber:\n",
    "        tracknumber = int(tracknumber[0])\n",
    "        db.execute(\"UPDATE songs SET tracknumber = ? WHERE filename = ?\", (tracknumber, row[1]))\n",
    "        pkl_path = Path(row[2]).with_suffix(\".pkl\")\n",
    "        with open(pkl_path, \"rb\") as f:\n",
    "            data = pickle.load(f)\n",
    "        data[\"tracknumber\"] = tracknumber\n",
    "        with open(pkl_path, \"wb\") as f:\n",
    "            pickle.dump(data, f)\n"
   ]
  },
  {
   "cell_type": "code",
   "execution_count": 23,
   "metadata": {},
   "outputs": [
    {
     "name": "stdout",
     "output_type": "stream",
     "text": [
      "id: 0\n",
      "filename: 0\n",
      "filepath: 0\n",
      "album_folder: 0\n",
      "artist_folder: 0\n",
      "filesize: 0\n",
      "title: 0\n",
      "artist: 0\n",
      "album: 0\n",
      "year: 14\n",
      "tracknumber: 46\n",
      "genre: 0\n",
      "top_5_genres: 0\n"
     ]
    }
   ],
   "source": [
    "# df.isna().sum() equivalent\n",
    "\n",
    "result = db.fetchall(\"PRAGMA table_info(songs)\")\n",
    "columns = [column[1] for column in result]\n",
    "\n",
    "# For each column, count the number of rows with NULL values\n",
    "for column in columns:\n",
    "    count = db.fetchone(f\"SELECT COUNT(*) FROM songs WHERE {column} IS NULL\")[0]\n",
    "    print(f\"{column}: {count}\")"
   ]
  },
  {
   "cell_type": "code",
   "execution_count": 24,
   "metadata": {},
   "outputs": [
    {
     "name": "stdout",
     "output_type": "stream",
     "text": [
      "Sinkane - Hold Tight.mp3   -----   Sinkane - Hold Tight\n",
      "Chinese man records - Bouncefloor.mp3   -----   Chinese man records - Bouncefloor\n",
      "Chinese man records - BB's Electrify BUGS.mp3   -----   Chinese man records - BB's Electrify BUGS\n",
      "Chinese man records - Searching for Hiero.mp3   -----   Chinese man records - Searching for Hiero\n",
      "Chinese man records - Pudding à l'Arsenic.mp3   -----   Pudding à l'Arsenic\n",
      "Peter Tosh - Rastafari Is.mp3   -----   Rastafari Is\n",
      "Peter Tosh - Mama Africa.mp3   -----   Peter Tosh - Mama Africa\n",
      "Johnny Cash and June Carter - It Ain't Me, Babe.mp3   -----   Johnny Cash and June Carter - It Ain't Me, Babe\n",
      "Johnny Cash & Bob Dylan - Complete Nashville Sessions - 1969.mp3   -----   AlbumWrap Album\n",
      "Johnny Cash - Country Classics 1994 - Album.mp3   -----   All\n",
      "Musica Country - Johnny Cash - Man In Black.mp3   -----   Man in Black\n",
      "You always you (live) - Patrice.mp3   -----   You always you (live)\n",
      "Jamie Cullum and Katie Melua - LoveCats (Brits 2004).mp3   -----   Jamie Cullum and Katie Melua - LoveCats (Brits 2004)\n",
      "Katie Melua - Blowin' In The Wind (Live Taratata).mp3   -----   Blowin' In The Wind (Live Taratata)\n",
      "Cristobal Tapia De Veer  - Utopia.mp3   -----   UTOPIA #1\n",
      "5. “Tick of the Clock” - Chromatics.mp3   -----   5. “Tick of the Clock” - Chromatics\n",
      "C2C (Coups 2 Cross) - DMC World Final 2004.mp3   -----   DMC 2004 Set\n",
      "C2C - Dmc World Championship 2005.mp3   -----   C2C - Dmc World Championship 2005\n",
      "C2C (Coups 2 Cross) - DMC World Final 2003.mp3   -----   DMC 2003 Set\n",
      "B 2 _ WANDERING EYE.mp3   -----   B 2 | WANDERING EYE\n",
      "B 1 _ PULL THE CATCH.mp3   -----   B 1 | PULL THE CATCH\n",
      "Baby Soom Ft T-DoG-Frank Mr-Dont Go.mp3   -----   Baby Soom Ft T-DoG-Frank Mr-Dont Go\n",
      "Freestyle1.mp3   -----   Freestyle n°1 à GMT (Ft Soom T)\n",
      "Freestyle2.mp3   -----   Freestyle n°2 à GMT (Ft Soom T)\n",
      "Freestyle3.mp3   -----   Freestyle n°3 à GMT (Ft Soom T)\n",
      "Ntm - Foutre Le Feu.mp3   -----   Ntm - Foutre Le Feu\n",
      "Flying-Turns-Cardboard-Lamb-Produced-By-Gesaffelstein (mp3-music.su).mp3   -----   Cardboard Lamb (Produced By Gesaffelstein)\n",
      "The-shoes-Cover-your-eyes-gesaffelstein-remix (mp3-music.su).mp3   -----   Cover Your Eyes (Gesaffelstein\n",
      "ClashMusic-DjMix-Podcast-Gesaffelstein.mp3   -----   ClashMusic DJ Mix Podcast - Gesaffelstein\n",
      "Gesaffelstein-Liberte (mp3-music.su).mp3   -----   Gesaffelstein-Liberte (mp3-music.su)\n",
      "Gesaffelstein-Start-Resistance (mp3-music.su).mp3   -----   Gesaffelstein-Start-Resistance (mp3-music.su)\n",
      "Gesaffelstein-Permanent-Vision (mp3-music.su).mp3   -----   Gesaffelstein-Permanent-Vision (mp3-music.su)\n",
      "Gesaffelstein-Midnight-Anxiety-Theme (mp3-music.su).mp3   -----   Midnight Anxiety Theme\n",
      "Limp Bizkit - I Would for You.mp3   -----   I Would for You\n",
      "Don't Worry Be Happy (Bobby McFerrin Cover).mp3   -----   Don't Worry Be Happy\n",
      "BLACKBIRD (The Beatles Cover).mp3   -----   BLACKBIRD\n",
      "Little Boxes - Walk off the Earth.mp3   -----   Little Boxes - Walk off the Earth\n",
      "Love Sponge - Gianni and Sarah [Walk off the Earth].mp3   -----   Love Sponge - Gianni and Sarah [Walk off the Earth]\n",
      "Yesterday (Beatles Cover).mp3   -----   Yesterday (Beatles Cover)\n",
      "I Knew You Were Trouble - WALK OFF THE EARTH Feat. KRNFX.mp3   -----   I Knew You Were Trouble - WALK OFF THE EARTH Feat. KRNFX\n",
      "Roll Up (Wiz Khalifa Cover).mp3   -----   Roll Up (Wiz Khalifa Cover)\n",
      "Take A Dirty Picture (Taio Cruz Cover).mp3   -----   Take A Dirty Picture\n",
      "SunBurnt Hand (Danny Tieger Cover).mp3   -----   SunBurnt Hand\n",
      "SAY IT AINT SO - Sarah Blackwood Feat.Emily Bones (Weezer).mp3   -----   SAY IT AINT SO - Sarah Blackwood Feat.Emily Bones (Weezer)\n",
      "- Track11.mp3   -----   - Track11\n",
      "- Track08.mp3   -----   - Track08\n"
     ]
    }
   ],
   "source": [
    "# print the rows where value for tracknumber is NULL\n",
    "tracknumber_none = db.fetchall(\"SELECT * FROM songs WHERE tracknumber IS NULL OR tracknumber = '' OR tracknumber = ' '\")\n",
    "for row in tracknumber_none:\n",
    "    print(f\"{row[1]}   -----   {row[6]}\")"
   ]
  },
  {
   "cell_type": "code",
   "execution_count": 25,
   "metadata": {},
   "outputs": [],
   "source": [
    "########### Unique artist\n",
    "\n",
    "# for eah row in sqlite, read the filepath, extract the str between the first two / and compare to the value for artist\n",
    "# if different, add the path to a list\n",
    "db = DatabaseManager(SQLITE_INSTANCE)\n",
    "\n",
    "artist_diff = []\n",
    "for row in db.fetchall(\"SELECT * FROM songs\"):\n",
    "    filepath = row[2]\n",
    "    artist = row[6]\n",
    "    folder = filepath.split(\"/\")[1]\n",
    "    if folder != artist:\n",
    "        artist_diff.append((filepath, artist))"
   ]
  },
  {
   "cell_type": "code",
   "execution_count": 26,
   "metadata": {},
   "outputs": [
    {
     "name": "stdout",
     "output_type": "stream",
     "text": [
      "('MegaSet/Ska-P/Ska-P - 2008 - Lágrimas Y Gozos/05 - La Colmena.mp3', 'La colmena')\n",
      "('MegaSet/Ska-P/Ska-P - 2008 - Lágrimas Y Gozos/02 - El Libertador.mp3', 'El libertador')\n",
      "('MegaSet/Ska-P/Ska-P - 2008 - Lágrimas Y Gozos/10 - El Tercero de la Foto.mp3', 'El tercero de la foto')\n",
      "('MegaSet/Ska-P/Ska-P - 2008 - Lágrimas Y Gozos/12 - Que Puedo Decir.mp3', 'Qué puedo decir')\n",
      "('MegaSet/Ska-P/Ska-P - 2008 - Lágrimas Y Gozos/03 - Crimen Sollicitationis.mp3', 'Crimen sollicitationis')\n",
      "('MegaSet/Ska-P/Ska-P - 2008 - Lágrimas Y Gozos/07 - El Imperio Caera.mp3', 'El imperio caerá')\n",
      "('MegaSet/Ska-P/Ska-P - 2008 - Lágrimas Y Gozos/04 - Fuego y Miedo.mp3', 'Fuego y miedo')\n",
      "('MegaSet/Ska-P/Ska-P - 2008 - Lágrimas Y Gozos/08 - Los Hijos Bastardos de la Globalizacion.mp3', 'Los hijos bastardos de la globalización')\n",
      "('MegaSet/Ska-P/Ska-P - 2008 - Lágrimas Y Gozos/01 - Ni Fu Ni Fa.mp3', 'Piste 1')\n",
      "('MegaSet/Ska-P/Ska-P - 2008 - Lágrimas Y Gozos/09 - Vandalo.mp3', 'Vándalo')\n",
      "('MegaSet/Ska-P/Ska-P - 2008 - Lágrimas Y Gozos/06 - Gasta Claus.mp3', 'Gasta Claus')\n",
      "('MegaSet/Ska-P/Ska-P - 2008 - Lágrimas Y Gozos/11 - Decadencia.mp3', 'Decadencia')\n",
      "('MegaSet/Ska-P/Ska-P - 2000 - Planeta Eskoria/09 - Ska-P - A La Mierda.mp3', 'A la mierda')\n",
      "('MegaSet/Ska-P/Ska-P - 2000 - Planeta Eskoria/10 - Ska-P - E.T.T.s.mp3', 'E.T.T.’s')\n",
      "('MegaSet/Ska-P/Ska-P - 2000 - Planeta Eskoria/07 - Ska-P - Eres Un@ Más.mp3', 'Eres un@ más')\n",
      "('MegaSet/Ska-P/Ska-P - 2000 - Planeta Eskoria/05 - Ska-P - Naval Xixón.mp3', 'Naval Xixón')\n",
      "('MegaSet/Ska-P/Ska-P - 2000 - Planeta Eskoria/11 - Ska-P - Lucrecia.mp3', 'Lucrecia')\n",
      "('MegaSet/Ska-P/Ska-P - 2000 - Planeta Eskoria/01 - Ska-P - Planeta Eskoria.mp3', 'Planeta Eskoria')\n",
      "('MegaSet/Ska-P/Ska-P - 2000 - Planeta Eskoria/08 - Ska-P - Derecho De Admisión.mp3', 'Derecho de admisión')\n",
      "('MegaSet/Ska-P/Ska-P - 2000 - Planeta Eskoria/13 - Ska-P - Violencia Machista.mp3', 'Violencia machista')\n",
      "('MegaSet/Ska-P/Ska-P - 2000 - Planeta Eskoria/02 - Ska-P - Vergüenza.mp3', 'Vergüenza')\n",
      "('MegaSet/Ska-P/Ska-P - 2000 - Planeta Eskoria/03 - Ska-P - Como Me Pongo.mp3', 'Como me pongo')\n",
      "('MegaSet/Ska-P/Ska-P - 2000 - Planeta Eskoria/14 - Ska-P - Mestizaje.mp3', 'Mestizaje')\n",
      "('MegaSet/Ska-P/Ska-P - 2000 - Planeta Eskoria/06 - Ska-P - La Mosca Cojonera.mp3', 'La mosca cojonera')\n",
      "('MegaSet/Ska-P/Ska-P - 2000 - Planeta Eskoria/04 - Ska-P - El Auténtico.mp3', 'El auténtico')\n",
      "('MegaSet/Ska-P/Ska-P - 2000 - Planeta Eskoria/12 - Ska-P - Tío Sam.mp3', 'Tío Sam')\n",
      "('MegaSet/Ska-P/Ska-P - 2002 - ¡¡Que Corra La Voz!!/09 - Ska-P - Insensibilidad.mp3', 'Insensibilidad')\n",
      "('MegaSet/Ska-P/Ska-P - 2002 - ¡¡Que Corra La Voz!!/01 - Ska-P - La Estampida.mp3', 'Estampida')\n",
      "('MegaSet/Ska-P/Ska-P - 2002 - ¡¡Que Corra La Voz!!/03 - Ska-P - Welcome To Hell.mp3', 'Welcome to Hell')\n",
      "('MegaSet/Ska-P/Ska-P - 2002 - ¡¡Que Corra La Voz!!/06 - Ska-P - Intifada.mp3', '06 - Ska-P - Intifada')\n"
     ]
    }
   ],
   "source": [
    "for art in artist_diff[40:70]:\n",
    "    print(art)"
   ]
  }
 ],
 "metadata": {
  "kernelspec": {
   "display_name": ".venv",
   "language": "python",
   "name": "python3"
  },
  "language_info": {
   "codemirror_mode": {
    "name": "ipython",
    "version": 3
   },
   "file_extension": ".py",
   "mimetype": "text/x-python",
   "name": "python",
   "nbconvert_exporter": "python",
   "pygments_lexer": "ipython3",
   "version": "3.10.12"
  }
 },
 "nbformat": 4,
 "nbformat_minor": 2
}
