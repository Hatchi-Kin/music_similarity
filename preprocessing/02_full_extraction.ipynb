{
 "cells": [
  {
   "cell_type": "code",
   "execution_count": 1,
   "metadata": {},
   "outputs": [
    {
     "name": "stderr",
     "output_type": "stream",
     "text": [
      "[   INFO   ] MusicExtractorSVM: no classifier models were configured by default\n"
     ]
    },
    {
     "name": "stdout",
     "output_type": "stream",
     "text": [
      "Num GPUs: 1\n"
     ]
    }
   ],
   "source": [
    "import os\n",
    "os.environ['TF_CPP_MIN_LOG_LEVEL'] = '3'  # or any {'0', '1', '2'}\n",
    "import pickle\n",
    "import json\n",
    "import random\n",
    "import music_tag\n",
    "\n",
    "from utils.music_utils import *\n",
    "\n",
    "from pathlib import Path\n",
    "import numpy as np\n",
    "\n",
    "from utils.extract_openl3_embeddings import EmbeddingsOpenL3\n",
    "from essentia.standard import MonoLoader, TensorflowPredictEffnetDiscogs, TensorflowPredict2D\n",
    "\n",
    "import tensorflow as tf\n",
    "tf.config.run_functions_eagerly(True)\n",
    "\n",
    "os.environ['TF_XLA_FLAGS'] = '--tf_xla_enable_xla_devices'\n",
    "physical_devices = tf.config.list_physical_devices('GPU')\n",
    "if physical_devices:\n",
    "   tf.config.experimental.set_memory_growth(physical_devices[0], True)\n",
    "else:\n",
    "   print(\"No GPU found. Please ensure you have installed TensorFlow correctly\")\n",
    "print(\"Num GPUs:\", len(physical_devices))"
   ]
  },
  {
   "cell_type": "code",
   "execution_count": 2,
   "metadata": {},
   "outputs": [
    {
     "name": "stderr",
     "output_type": "stream",
     "text": [
      "[   INFO   ] TensorflowPredict: Successfully loaded graph file: `utils/discogs-effnet-bs64-1.pb`\n",
      "[   INFO   ] TensorflowPredict: Successfully loaded graph file: `utils/mtg_jamendo_genre-discogs-effnet-1.pb`\n",
      "[   INFO   ] TensorflowPredict: Successfully loaded graph file: `utils/openl3-music-mel128-emb512-3.pb`\n"
     ]
    }
   ],
   "source": [
    "DATASET = Path(\"MegaSet\")\n",
    "CLASSES = \"utils/mtg_jamendo_genre.json\"\n",
    "\n",
    "embedding_87_model = TensorflowPredictEffnetDiscogs(graphFilename=\"utils/discogs-effnet-bs64-1.pb\", output=\"PartitionedCall:1\")\n",
    "prediction_87_model = TensorflowPredict2D(graphFilename=\"utils/mtg_jamendo_genre-discogs-effnet-1.pb\")\n",
    "\n",
    "embedding_512_model = EmbeddingsOpenL3(\"utils/openl3-music-mel128-emb512-3.pb\")"
   ]
  },
  {
   "cell_type": "code",
   "execution_count": 3,
   "metadata": {},
   "outputs": [
    {
     "name": "stdout",
     "output_type": "stream",
     "text": [
      "Mass Hysteria/Mass Hysteria - Live At Montréal/04 - Donnez Vous La Peine.mp3 ['rock', 'electronic', 'metal', 'industrial', 'alternative']\n"
     ]
    }
   ],
   "source": [
    "random_mp3 = pick_random_mp3(DATASET)\n",
    "if check_predictions_87(random_mp3):\n",
    "    print(str(random_mp3)[8:], get_top_5_genres(random_mp3, CLASSES))\n",
    "else:\n",
    "    print(\"No predictions for\\n\")\n",
    "    print_info(random_mp3)"
   ]
  },
  {
   "cell_type": "code",
   "execution_count": 4,
   "metadata": {},
   "outputs": [],
   "source": [
    "def extract_predictions_87(mp3_file_path, embedding_model, prediction_model):\n",
    "    try:\n",
    "        audio = MonoLoader(filename=mp3_file_path, sampleRate=16000, resampleQuality=2)()\n",
    "        embeddings = embedding_model(audio)\n",
    "        predictions = prediction_model(embeddings)\n",
    "        averaged_predictions = np.mean(predictions, axis=0)\n",
    "        return averaged_predictions\n",
    "    except Exception as e:\n",
    "        print(f\"Error extracting predictions from {mp3_file_path}: {e}\")\n",
    "        return None"
   ]
  },
  {
   "cell_type": "code",
   "execution_count": 5,
   "metadata": {},
   "outputs": [],
   "source": [
    "def extract_embeddings_512(file_path, extractor):\n",
    "    try:\n",
    "        vector = extractor.compute(file_path)\n",
    "        embedding = vector.mean(axis=0)\n",
    "        return embedding\n",
    "    except Exception as e:\n",
    "        print(f\"Error extracting embeddings from {file_path}: {e}\")\n",
    "        return None"
   ]
  },
  {
   "cell_type": "code",
   "execution_count": 6,
   "metadata": {},
   "outputs": [
    {
     "name": "stdout",
     "output_type": "stream",
     "text": [
      "Invalid files: 1019\n"
     ]
    }
   ],
   "source": [
    "list_of_mp3s = list(DATASET.rglob(\"*.mp3\"))\n",
    "invalid_files = []\n",
    "for mp3 in list_of_mp3s:\n",
    "    if not check_predictions_87(mp3) or not check_embeddings_512(mp3):\n",
    "        invalid_files.append(mp3)\n",
    "# Invalid files: 1092\n",
    "        \n",
    "print(f\"Invalid files: {len(invalid_files)}\")"
   ]
  },
  {
   "cell_type": "code",
   "execution_count": 9,
   "metadata": {},
   "outputs": [
    {
     "name": "stdout",
     "output_type": "stream",
     "text": [
      "4.91% done\n",
      "9.81% done\n",
      "14.72% done\n",
      "19.63% done\n",
      "24.53% done\n",
      "29.44% done\n",
      "34.35% done\n",
      "39.25% done\n",
      "44.16% done\n",
      "49.07% done\n",
      "53.97% done\n",
      "58.88% done\n",
      "63.79% done\n",
      "68.69% done\n",
      "73.60% done\n",
      "78.51% done\n",
      "83.42% done\n",
      "88.32% done\n",
      "93.23% done\n",
      "98.14% done\n"
     ]
    }
   ],
   "source": [
    "# update pkl of invalid files\n",
    "\n",
    "counter = 0\n",
    "\n",
    "for mp3 in invalid_files:\n",
    "    \n",
    "    if not check_predictions_87(mp3):\n",
    "        predictions = extract_predictions_87(str(mp3), embedding_87_model, prediction_87_model)\n",
    "        if predictions is not None:\n",
    "            pkl_path = Path(str(mp3).replace(\".mp3\", \".pkl\"))\n",
    "            with open(pkl_path, \"rb\") as f:\n",
    "                data = pickle.load(f)\n",
    "            data[\"predictions_87\"] = predictions\n",
    "            with open(pkl_path, \"wb\") as f:\n",
    "                pickle.dump(data, f)\n",
    "\n",
    "    if not check_embeddings_512(mp3):\n",
    "        embeddings = extract_embeddings_512(str(mp3), embedding_512_model)\n",
    "        if embeddings is not None:\n",
    "            pkl_path = Path(str(mp3).replace(\".mp3\", \".pkl\"))\n",
    "            with open(pkl_path, \"rb\") as f:\n",
    "                data = pickle.load(f)\n",
    "            data[\"embedding_512\"] = embeddings\n",
    "            with open(pkl_path, \"wb\") as f:\n",
    "                pickle.dump(data, f)\n",
    "    \n",
    "    counter += 1\n",
    "    if counter % (len(invalid_files) // 20) == 0:\n",
    "        print(f\"{counter/len(invalid_files)*100:.2f}% done\")"
   ]
  },
  {
   "cell_type": "code",
   "execution_count": 10,
   "metadata": {},
   "outputs": [
    {
     "name": "stdout",
     "output_type": "stream",
     "text": [
      "Invalid files: 0\n"
     ]
    }
   ],
   "source": [
    "list_of_mp3s = list(DATASET.rglob(\"*.mp3\"))\n",
    "invalid_files = []\n",
    "for mp3 in list_of_mp3s:\n",
    "    if not check_predictions_87(mp3) or not check_embeddings_512(mp3):\n",
    "        invalid_files.append(mp3)\n",
    "# Invalid files: 1092\n",
    "        \n",
    "print(f\"Invalid files: {len(invalid_files)}\")"
   ]
  }
 ],
 "metadata": {
  "kernelspec": {
   "display_name": ".venv",
   "language": "python",
   "name": "python3"
  },
  "language_info": {
   "codemirror_mode": {
    "name": "ipython",
    "version": 3
   },
   "file_extension": ".py",
   "mimetype": "text/x-python",
   "name": "python",
   "nbconvert_exporter": "python",
   "pygments_lexer": "ipython3",
   "version": "3.10.12"
  }
 },
 "nbformat": 4,
 "nbformat_minor": 2
}
