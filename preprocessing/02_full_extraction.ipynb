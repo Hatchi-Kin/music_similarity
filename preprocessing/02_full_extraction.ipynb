{
 "cells": [
  {
   "cell_type": "code",
   "execution_count": 1,
   "metadata": {},
   "outputs": [
    {
     "name": "stderr",
     "output_type": "stream",
     "text": [
      "[   INFO   ] MusicExtractorSVM: no classifier models were configured by default\n"
     ]
    },
    {
     "name": "stdout",
     "output_type": "stream",
     "text": [
      "Num GPUs: 1\n"
     ]
    }
   ],
   "source": [
    "import os\n",
    "os.environ['TF_CPP_MIN_LOG_LEVEL'] = '3'  # or any {'0', '1', '2'}\n",
    "import pickle\n",
    "import json\n",
    "import random\n",
    "import music_tag\n",
    "\n",
    "from music_utils import *\n",
    "\n",
    "from pathlib import Path\n",
    "import numpy as np\n",
    "\n",
    "from extract_openl3_embeddings import EmbeddingsOpenL3\n",
    "from essentia.standard import MonoLoader, TensorflowPredictEffnetDiscogs, TensorflowPredict2D\n",
    "\n",
    "import tensorflow as tf\n",
    "tf.config.run_functions_eagerly(True)\n",
    "\n",
    "os.environ['TF_XLA_FLAGS'] = '--tf_xla_enable_xla_devices'\n",
    "physical_devices = tf.config.list_physical_devices('GPU')\n",
    "if physical_devices:\n",
    "   tf.config.experimental.set_memory_growth(physical_devices[0], True)\n",
    "else:\n",
    "   print(\"No GPU found. Please ensure you have installed TensorFlow correctly\")\n",
    "print(\"Num GPUs:\", len(physical_devices))"
   ]
  },
  {
   "cell_type": "code",
   "execution_count": 2,
   "metadata": {},
   "outputs": [
    {
     "name": "stderr",
     "output_type": "stream",
     "text": [
      "[   INFO   ] TensorflowPredict: Successfully loaded graph file: `discogs-effnet-bs64-1.pb`\n",
      "[   INFO   ] TensorflowPredict: Successfully loaded graph file: `mtg_jamendo_genre-discogs-effnet-1.pb`\n",
      "[   INFO   ] TensorflowPredict: Successfully loaded graph file: `openl3-music-mel128-emb512-3.pb`\n"
     ]
    }
   ],
   "source": [
    "DATASET = Path(\"Music_Dataset\")\n",
    "CLASSES = \"mtg_jamendo_genre.json\"\n",
    "\n",
    "embedding_87_model = TensorflowPredictEffnetDiscogs(graphFilename=\"discogs-effnet-bs64-1.pb\", output=\"PartitionedCall:1\")\n",
    "prediction_87_model = TensorflowPredict2D(graphFilename=\"mtg_jamendo_genre-discogs-effnet-1.pb\")\n",
    "\n",
    "embedding_512_model = EmbeddingsOpenL3(\"openl3-music-mel128-emb512-3.pb\")"
   ]
  },
  {
   "cell_type": "code",
   "execution_count": 8,
   "metadata": {},
   "outputs": [
    {
     "name": "stdout",
     "output_type": "stream",
     "text": [
      "No predictions for\n",
      "\n",
      "filename: 14 Stack-O-Lee.mp3\n",
      "filepath: Music_Dataset/Black_Snake_Moan_OST/14 Stack-O-Lee.mp3\n",
      "folder: Music_Dataset/Black_Snake_Moan_OST\n",
      "filesize: 8.03\n",
      "title: Stack-O-Lee\n",
      "artist: Samuel L. Jackson\n",
      "album: Black snake moan\n",
      "year: 2007\n",
      "tracknumber: 14\n",
      "genre: Soundtrack\n",
      "predictions_87: []\n",
      "embedding_512: []\n"
     ]
    }
   ],
   "source": [
    "random_mp3 = pick_random_mp3(DATASET)\n",
    "if check_predictions_87(random_mp3):\n",
    "    print(random_mp3[8:], get_top_5_genres(random_mp3, CLASSES))\n",
    "else:\n",
    "    print(\"No predictions for\\n\")\n",
    "    print_info(random_mp3)"
   ]
  },
  {
   "cell_type": "code",
   "execution_count": 9,
   "metadata": {},
   "outputs": [],
   "source": [
    "def extract_predictions_87(mp3_file_path, embedding_model, prediction_model):\n",
    "    try:\n",
    "        audio = MonoLoader(filename=mp3_file_path, sampleRate=16000, resampleQuality=2)()\n",
    "        embeddings = embedding_model(audio)\n",
    "        predictions = prediction_model(embeddings)\n",
    "        averaged_predictions = np.mean(predictions, axis=0)\n",
    "        return averaged_predictions\n",
    "    except Exception as e:\n",
    "        print(f\"Error extracting predictions from {mp3_file_path}: {e}\")\n",
    "        return None"
   ]
  },
  {
   "cell_type": "code",
   "execution_count": 10,
   "metadata": {},
   "outputs": [],
   "source": [
    "def extract_embeddings_512(file_path, extractor):\n",
    "    try:\n",
    "        vector = extractor.compute(file_path)\n",
    "        embedding = vector.mean(axis=0)\n",
    "        return embedding\n",
    "    except Exception as e:\n",
    "        print(f\"Error extracting embeddingss from {file_path}: {e}\")\n",
    "        return None"
   ]
  },
  {
   "cell_type": "code",
   "execution_count": 12,
   "metadata": {},
   "outputs": [
    {
     "name": "stdout",
     "output_type": "stream",
     "text": [
      "Processed 4 files\n",
      "Processed 8 files\n",
      "Processed 12 files\n",
      "Processed 16 files\n",
      "Processed 20 files\n",
      "Processed 24 files\n",
      "Processed 28 files\n",
      "Processed 32 files\n",
      "Processed 36 files\n",
      "Processed 40 files\n",
      "Processed 44 files\n",
      "Processed 48 files\n",
      "Processed 52 files\n",
      "Processed 56 files\n",
      "Processed 60 files\n",
      "Processed 64 files\n",
      "Processed 68 files\n",
      "Processed 72 files\n",
      "Processed 76 files\n",
      "Processed 80 files\n",
      "Processed 84 files\n",
      "Processed 88 files\n",
      "Processed 92 files\n",
      "Processed 96 files\n",
      "Processed 100 files\n",
      "Processed 104 files\n",
      "Processed 108 files\n",
      "Processed 112 files\n",
      "Processed 116 files\n",
      "Processed 120 files\n",
      "Processed 124 files\n",
      "Processed 128 files\n",
      "Processed 132 files\n",
      "Processed 136 files\n",
      "Processed 140 files\n",
      "Processed 144 files\n",
      "Processed 148 files\n",
      "Processed 152 files\n",
      "Processed 156 files\n",
      "Processed 160 files\n",
      "Processed 164 files\n",
      "Processed 168 files\n",
      "Processed 172 files\n",
      "0 valid files out of 174 total files\n"
     ]
    }
   ],
   "source": [
    "# This function iterates over all mp3 files in a dataset, \n",
    "# checks and updates predictions and embeddings in their corresponding pickle files.\n",
    "\n",
    "total_files = len(list(DATASET.rglob('*.mp3')))\n",
    "valid_files = 0\n",
    "\n",
    "for counter, mp3_file in enumerate(DATASET.rglob('*.mp3'), start=1):\n",
    "    pkl_path = mp3_file.with_suffix('.pkl')\n",
    "    \n",
    "    try:\n",
    "        with pkl_path.open('rb') as f:\n",
    "            file_info = pickle.load(f)\n",
    "    except Exception as e:\n",
    "        print(f\"Error loading pickle file {pkl_path}: {e}\")\n",
    "        continue\n",
    "\n",
    "    if check_predictions_87(mp3_file) and check_embeddings_512(mp3_file):\n",
    "        valid_files += 1\n",
    "        continue\n",
    "\n",
    "    try:\n",
    "        if not check_predictions_87(mp3_file):\n",
    "            file_info[\"predictions_87\"] = extract_predictions_87(str(mp3_file), embedding_87_model, prediction_87_model)\n",
    "    except Exception as e:\n",
    "        print(f\"Error extracting predictions for {mp3_file}: {e}\")\n",
    "        continue\n",
    "\n",
    "    try:\n",
    "        if not check_embeddings_512(mp3_file):\n",
    "            file_info[\"embedding_512\"] = extract_embeddings_512(str(mp3_file), embedding_512_model)\n",
    "    except Exception as e:\n",
    "        print(f\"Error extracting embeddings for {mp3_file}: {e}\")\n",
    "        continue\n",
    "\n",
    "    try:\n",
    "        with pkl_path.open('wb') as f:\n",
    "            pickle.dump(file_info, f)\n",
    "    except Exception as e:\n",
    "        print(f\"Error saving pickle file {pkl_path}: {e}\")\n",
    "        continue\n",
    "\n",
    "    # Print progress every 2.5% of the total valid files\n",
    "    if counter % (total_files // 40) == 0:\n",
    "        print(f\"Processed {counter} files\")\n",
    "\n",
    "\n",
    "print(f\"{valid_files} valid files out of {total_files} total files\")\n",
    "\n",
    "#582 files in 66min so around 22h for 11645 files\n",
    "#1164 files in 133min so around 22h for 11645 files"
   ]
  },
  {
   "cell_type": "code",
   "execution_count": null,
   "metadata": {},
   "outputs": [],
   "source": [
    "# random_file = pick_random_mp3(DATASET)\n",
    "\n",
    "# if check_embeddings_512(random_file) and check_predictions_87(random_file):\n",
    "#     print(\"embeddings and predictions are valid\\n\")\n",
    "\n",
    "# print_info(random_file)\n"
   ]
  }
 ],
 "metadata": {
  "kernelspec": {
   "display_name": ".venv",
   "language": "python",
   "name": "python3"
  },
  "language_info": {
   "codemirror_mode": {
    "name": "ipython",
    "version": 3
   },
   "file_extension": ".py",
   "mimetype": "text/x-python",
   "name": "python",
   "nbconvert_exporter": "python",
   "pygments_lexer": "ipython3",
   "version": "3.10.12"
  }
 },
 "nbformat": 4,
 "nbformat_minor": 2
}
