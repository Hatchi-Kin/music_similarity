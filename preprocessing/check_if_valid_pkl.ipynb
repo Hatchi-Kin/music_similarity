{
 "cells": [
  {
   "cell_type": "code",
   "execution_count": 1,
   "metadata": {},
   "outputs": [],
   "source": [
    "from utils.music_utils import *\n",
    "from pathlib import Path\n",
    "DATASET = Path('MegaSet')"
   ]
  },
  {
   "cell_type": "code",
   "execution_count": 10,
   "metadata": {},
   "outputs": [
    {
     "name": "stdout",
     "output_type": "stream",
     "text": [
      "Invalid files: 0\n"
     ]
    }
   ],
   "source": [
    "list_of_mp3s = list(DATASET.rglob(\"*.mp3\"))\n",
    "invalid_files = []\n",
    "for mp3 in list_of_mp3s:\n",
    "    if not check_predictions_87(mp3) or not check_embeddings_512(mp3) or check_file_info(mp3) is False:\n",
    "        invalid_files.append(mp3)\n",
    "        \n",
    "print(f\"Invalid files: {len(invalid_files)}\")"
   ]
  }
 ],
 "metadata": {
  "kernelspec": {
   "display_name": ".venv",
   "language": "python",
   "name": "python3"
  },
  "language_info": {
   "codemirror_mode": {
    "name": "ipython",
    "version": 3
   },
   "file_extension": ".py",
   "mimetype": "text/x-python",
   "name": "python",
   "nbconvert_exporter": "python",
   "pygments_lexer": "ipython3",
   "version": "3.10.12"
  }
 },
 "nbformat": 4,
 "nbformat_minor": 2
}
