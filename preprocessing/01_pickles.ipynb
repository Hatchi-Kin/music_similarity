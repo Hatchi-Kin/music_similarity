{
 "cells": [
  {
   "cell_type": "code",
   "execution_count": 1,
   "metadata": {},
   "outputs": [],
   "source": [
    "import os\n",
    "import pickle\n",
    "import music_tag\n",
    "import random\n",
    "from utils.music_utils import *"
   ]
  },
  {
   "cell_type": "code",
   "execution_count": 2,
   "metadata": {},
   "outputs": [],
   "source": [
    "# # loop through all files in the 'MegaSet' directory and delete all .pkl files\n",
    "\n",
    "# for root, dirs, files in os.walk('MegaSet'):\n",
    "#     for file in files:\n",
    "#         if file.endswith('.pkl'):\n",
    "#             os.remove(os.path.join(root, file))"
   ]
  },
  {
   "cell_type": "code",
   "execution_count": 3,
   "metadata": {},
   "outputs": [
    {
     "name": "stdout",
     "output_type": "stream",
     "text": [
      "founds 11637 mp3 files and 11637 pkl files\n"
     ]
    }
   ],
   "source": [
    "DATASET = 'MegaSet'\n",
    "# count the mp3 and pkl files in DATASET\n",
    "\n",
    "count_mp3 = 0   \n",
    "count_pkl = 0\n",
    "for root, dirs, files in os.walk(DATASET):\n",
    "    for file in files:\n",
    "        if file.endswith('.mp3'):\n",
    "            count_mp3 += 1\n",
    "        if file.endswith('.pkl'):\n",
    "            count_pkl += 1\n",
    "print(f\"founds {count_mp3} mp3 files and {count_pkl} pkl files\")"
   ]
  },
  {
   "cell_type": "code",
   "execution_count": 4,
   "metadata": {},
   "outputs": [],
   "source": [
    "def create_and_save_pickle(mp3_path):\n",
    "    # check if pkl exist first\n",
    "    pkl_path = os.path.splitext(mp3_path)[0] + '.pkl'\n",
    "    if os.path.exists(pkl_path):\n",
    "        return\n",
    "    if os.path.exists(mp3_path):\n",
    "        try:\n",
    "            f = music_tag.load_file(mp3_path)\n",
    "            filename = os.path.basename(mp3_path)\n",
    "            filepath = mp3_path\n",
    "            folder = os.path.dirname(mp3_path)\n",
    "            filesize = round(os.path.getsize(mp3_path) / 1024 / 1024, 2)\n",
    "            title = f['title'].first if f['title'].first else filename\n",
    "            artist = f['artist'].first if f['artist'].first else folder\n",
    "            album = f['album'].first if f['album'].first else folder\n",
    "            year = f['year'].first if f['year'].first else None\n",
    "            tracknumber = f['tracknumber'].first if f['tracknumber'].first else None\n",
    "            genre = f['genre'].first if f['genre'].first else None\n",
    "            predictions_87 = []  # Default value\n",
    "            embedding_512 = []  # Default value\n",
    "            data = {\n",
    "                'filename': filename,\n",
    "                'filepath': filepath,\n",
    "                'folder': folder,\n",
    "                'filesize': filesize,\n",
    "                'title': title,\n",
    "                'artist': artist,\n",
    "                'album': album,\n",
    "                'year': year,\n",
    "                'tracknumber': tracknumber,\n",
    "                'genre': genre,\n",
    "                'predictions_87': predictions_87,\n",
    "                'embedding_512': embedding_512,\n",
    "            }\n",
    "            pkl_path = os.path.splitext(mp3_path)[0] + '.pkl'\n",
    "            with open(pkl_path, 'wb') as f:\n",
    "                pickle.dump(data, f)\n",
    "        except Exception as e:\n",
    "            print(f\"Error loading mp3 file: {str(e)}\")\n",
    "    else:\n",
    "        print(f\"MP3 file does not exist: {mp3_path}\")"
   ]
  },
  {
   "cell_type": "code",
   "execution_count": 5,
   "metadata": {},
   "outputs": [],
   "source": [
    "def check_if_pkl_is_valid(mp3_path):\n",
    "    if os.path.exists(mp3_path):\n",
    "        try:\n",
    "            pkl_path = os.path.splitext(mp3_path)[0] + '.pkl'\n",
    "            with open(pkl_path, 'rb') as f:\n",
    "                data = pickle.load(f)\n",
    "            if data['filepath'] == mp3_path:\n",
    "                return True\n",
    "            else:\n",
    "                return False\n",
    "        except Exception as e:\n",
    "            print(f\"Error loading pkl file: {str(e)}\")\n",
    "    else:\n",
    "        print(f\"MP3 file does not exist: {mp3_path}\")   "
   ]
  },
  {
   "cell_type": "code",
   "execution_count": 6,
   "metadata": {},
   "outputs": [],
   "source": [
    "# # Loop through all mp3 files in DATASET\n",
    "# # and create a pickle file for each mp3 file\n",
    "\n",
    "for root, dirs, files in os.walk(DATASET):\n",
    "    for file in files:\n",
    "        if file.endswith('.mp3'):\n",
    "            mp3_path = os.path.join(root, file)\n",
    "            create_and_save_pickle(mp3_path)\n",
    "\n",
    "# 12.5s"
   ]
  },
  {
   "cell_type": "code",
   "execution_count": null,
   "metadata": {},
   "outputs": [],
   "source": [
    "# pick random mp3 file and check if pkl file is valid then print the data\n",
    "\n",
    "mp3_path = random.choice([os.path.join(root, file) for root, dirs, files in os.walk(DATASET) for file in files if file.endswith('.mp3')])\n",
    "\n",
    "if check_if_pkl_is_valid(mp3_path):\n",
    "    print(f\"pkl file is valid: {mp3_path}\\n\")\n",
    "    pkl_path = os.path.splitext(mp3_path)[0] + '.pkl'\n",
    "    with open(pkl_path, 'rb') as f:\n",
    "        data = pickle.load(f)\n",
    "    for key, value in data.items():\n",
    "        print(f\"{key}: {value}\")\n",
    "else:\n",
    "    print(f\"pkl file is invalid: {mp3_path}\")"
   ]
  }
 ],
 "metadata": {
  "kernelspec": {
   "display_name": ".venv",
   "language": "python",
   "name": "python3"
  },
  "language_info": {
   "codemirror_mode": {
    "name": "ipython",
    "version": 3
   },
   "file_extension": ".py",
   "mimetype": "text/x-python",
   "name": "python",
   "nbconvert_exporter": "python",
   "pygments_lexer": "ipython3",
   "version": "3.10.12"
  }
 },
 "nbformat": 4,
 "nbformat_minor": 2
}
