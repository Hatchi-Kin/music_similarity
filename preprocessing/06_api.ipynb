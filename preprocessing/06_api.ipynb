{
 "cells": [
  {
   "cell_type": "code",
   "execution_count": 1,
   "metadata": {},
   "outputs": [],
   "source": [
    "import os\n",
    "import boto3\n",
    "import pickle\n",
    "import numpy\n",
    "import music_tag\n",
    "import random\n",
    "import json\n",
    "from pathlib import Path\n",
    "\n",
    "from music_utils import *\n",
    "\n",
    "import numpy as np\n",
    "from pymilvus import connections, utility\n",
    "from pymilvus import Collection, DataType, FieldSchema, CollectionSchema"
   ]
  },
  {
   "cell_type": "code",
   "execution_count": 2,
   "metadata": {},
   "outputs": [],
   "source": [
    "from dotenv import load_dotenv\n",
    "load_dotenv()\n",
    "\n",
    "URI = os.getenv(\"MILVUS_URI\")\n",
    "TOKEN = os.getenv(\"MILVUS_TOKEN\")\n",
    "BUCKET = os.getenv(\"BUCKET\")\n",
    "\n",
    "DATASET = \"Music_Dataset\""
   ]
  },
  {
   "cell_type": "code",
   "execution_count": 3,
   "metadata": {},
   "outputs": [],
   "source": [
    "def get_list_of_all_filepaths_in_S3(bucket):\n",
    "    s3_client = boto3.client('s3')\n",
    "    try:\n",
    "        contents = s3_client.list_objects(Bucket=bucket)\n",
    "        return [content['Key'] for content in contents['Contents']]\n",
    "\n",
    "    except Exception as e:\n",
    "        pass\n",
    "    return None"
   ]
  },
  {
   "cell_type": "code",
   "execution_count": 4,
   "metadata": {},
   "outputs": [
    {
     "name": "stdout",
     "output_type": "stream",
     "text": [
      "174\n"
     ]
    }
   ],
   "source": [
    "s3_client = boto3.client('s3') \n",
    "\n",
    "list_of_files_in_S3 = get_list_of_all_filepaths_in_S3(BUCKET)\n",
    "print(len(list_of_files_in_S3))"
   ]
  },
  {
   "cell_type": "code",
   "execution_count": 5,
   "metadata": {},
   "outputs": [
    {
     "name": "stdout",
     "output_type": "stream",
     "text": [
      "uploads/Music_Dataset/Funkadelic/[02]_Can_you_get_to_that.mp3\n"
     ]
    }
   ],
   "source": [
    "import random\n",
    "rdm_from_s3 = random.choice(list_of_files_in_S3)\n",
    "print(rdm_from_s3)"
   ]
  },
  {
   "cell_type": "code",
   "execution_count": null,
   "metadata": {},
   "outputs": [],
   "source": [
    "connections.connect(\"default\",\n",
    "                    uri=URI,\n",
    "                    token=TOKEN)\n",
    "print(f\"Connecting to DB: {URI}\")\n",
    "print(utility.list_collections())\n",
    "\n",
    "collection_512 = Collection(\"embeddings_512\")"
   ]
  },
  {
   "cell_type": "code",
   "execution_count": 7,
   "metadata": {},
   "outputs": [],
   "source": [
    "query_path = rdm_from_s3.replace(\"uploads/\", \"\")"
   ]
  },
  {
   "cell_type": "code",
   "execution_count": 8,
   "metadata": {},
   "outputs": [],
   "source": [
    "entities = collection_512.query(\n",
    "    expr=f'path == \"{query_path}\"',\n",
    "    output_fields=[\"*\"]\n",
    ")\n",
    "embedding_512 = entities[0]['embedding']"
   ]
  },
  {
   "cell_type": "code",
   "execution_count": 9,
   "metadata": {},
   "outputs": [
    {
     "name": "stdout",
     "output_type": "stream",
     "text": [
      "Funkadelic\n",
      "Maggot brain\n",
      "Can you get to that\n",
      "['pop', 'alternative', 'rock']\n"
     ]
    }
   ],
   "source": [
    "query_artist = entities[0]['artist']\n",
    "query_album = entities[0]['album']\n",
    "query_title = entities[0]['title']\n",
    "query_top3_genres = entities[0]['top_5_genres'][:3]\n",
    "\n",
    "print(query_artist)\n",
    "print(query_album)\n",
    "print(query_title)\n",
    "print(query_top3_genres)"
   ]
  },
  {
   "cell_type": "code",
   "execution_count": 10,
   "metadata": {},
   "outputs": [
    {
     "name": "stdout",
     "output_type": "stream",
     "text": [
      "Title                          | Artist                    | Top 5 Genres              | Path                                              \n",
      "-------------------------------------------------------------------------------------------------------------------------------------------------\n",
      "Rehab                          | Amy Winehouse             | pop, rock                 | Music_Dataset/Amy_Whinehouse/01_Rehab.mp3          | \n",
      "Hit it and quit it             | Funkadelic                | rock, alternative         | Music_Dataset/Funkadelic/[03]_Hit_it_and_quit_it.  | \n",
      "Come to Me                     | The Black Seeds           | reggae, dub               | Music_Dataset/The_Black_Seeds/01-the_black_seeds-  | \n",
      "this land is your land         | Sharon Jones and the Dap-Kings | pop, rock                 | Music_Dataset/Sharon_Jones/Sharon_Jones_and_the_D  | \n",
      "Take Your Changes              | The Black Seeds           | reggae, rock              | Music_Dataset/The_Black_Seeds/03-the_black_seeds-  | \n",
      "Safe from Harm                 | Massive Attack            | electronic, hiphop        | Music_Dataset/Massive_Attack/Massive_Attack_-_Blu  | \n",
      "You Know I'm No Good           | Amy Winehouse             | pop, electronic           | Music_Dataset/Amy_Whinehouse/02_You_Know_I'm_No_G  | \n",
      "Gone Daddy Gone/I Just Want t  | Violent Femmes            | rock, alternative         | Music_Dataset/Violent_Femmes/03 - Gone Daddy Gone  | \n",
      "how long do I have to wait fo  | Sharon Jones and the Dap-Kings | instrumentalpop, electronic | Music_Dataset/Sharon_Jones/Sharon_Jones_and_the_D  | \n",
      "Slingshot                      | The Black Seeds           | hiphop, electronic        | Music_Dataset/The_Black_Seeds/02-the_black_seeds-  | \n",
      "Traffic in the Sky             | Jack Johnson              | pop, rock                 | Music_Dataset/Jack_Johnson/03_Traffic_in_the_Sky_  | \n",
      "Push It Along                  | Q-Tip, Phife Dawg, Jarobi White | hiphop, rap               | Music_Dataset/A_Tribe_Called_Quest/01_Push_It_Alo  | \n",
      "La grande question             | La Phaze                  | electronic, hiphop        | Music_Dataset/La_Phaze/La Phaze - Pungle Roads -   | \n",
      "Great Expectations             | Jurassic 5                | hiphop, rap               | Music_Dataset/Jurassic_5/003_Great_Expectations.m  | \n",
      "When It's Good                 | Ben Harper                | alternative, blues        | Music_Dataset/Ben_Harper/02_-_Ben_harper_-_When_i  | \n",
      "rudeboy                        | Dub Incorporation         | reggae, rock              | Music_Dataset/Dub_Incorporation/04 - Rudeboy.mp3   | \n",
      "Gimme the Car                  | Violent Femmes            | rock, alternative         | Music_Dataset/Violent_Femmes/01 - Gimme The Car.m  | \n",
      "Don't Let Me Be Misunderstood  | Nina Simone               | pop, folk                 | Music_Dataset/Nina_Simone/06 - Don't Let Me Be Mi  | \n",
      "Wake Up                        | Rage Against The Machine  | rock, alternative         | Music_Dataset/The_Matrix_OST/13_Rage_Against_The_  | \n",
      "Taylor                         | Jack Johnson              | pop, rock                 | Music_Dataset/Jack_Johnson/04_Taylor_320kbps.mp3   | \n"
     ]
    }
   ],
   "source": [
    "bigresult = collection_512.search(\n",
    "    data=[embedding_512],\n",
    "    anns_field=\"embedding\",\n",
    "    param={\"nprobe\": 16},\n",
    "    limit=200,\n",
    "    offset=1,\n",
    "    output_fields=[\"*\"],\n",
    ")\n",
    "\n",
    "print(f'{\"Title\":<30} | {\"Artist\":<25} | {\"Top 5 Genres\":<25} | {\"Path\":<50}')\n",
    "print('-' * 145)\n",
    "\n",
    "already_proposed_artits = []\n",
    "count = 0\n",
    "for result in bigresult[0]:\n",
    "    if count >= 20:\n",
    "        break\n",
    "    already_proposed_artits.append(result.artist)\n",
    "    count += 1\n",
    "    print(f\"{result.title[:29]:<30} | {result.artist[:39]:<25} | {', '.join(result.top_5_genres[:2]):<25} | {result.path[:49]:<50} | \")"
   ]
  }
 ],
 "metadata": {
  "kernelspec": {
   "display_name": ".venv",
   "language": "python",
   "name": "python3"
  },
  "language_info": {
   "codemirror_mode": {
    "name": "ipython",
    "version": 3
   },
   "file_extension": ".py",
   "mimetype": "text/x-python",
   "name": "python",
   "nbconvert_exporter": "python",
   "pygments_lexer": "ipython3",
   "version": "3.10.12"
  }
 },
 "nbformat": 4,
 "nbformat_minor": 2
}
