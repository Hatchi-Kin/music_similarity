{
 "cells": [
  {
   "cell_type": "code",
   "execution_count": 1,
   "metadata": {},
   "outputs": [],
   "source": [
    "import os\n",
    "import boto3\n",
    "import pickle\n",
    "import numpy\n",
    "import music_tag\n",
    "import random\n",
    "import json\n",
    "from pathlib import Path\n",
    "\n",
    "from music_utils import *\n",
    "\n",
    "import numpy as np\n",
    "from pymilvus import connections, utility\n",
    "from pymilvus import Collection, DataType, FieldSchema, CollectionSchema"
   ]
  },
  {
   "cell_type": "code",
   "execution_count": 2,
   "metadata": {},
   "outputs": [],
   "source": [
    "DATASET = \"Music_Dataset\"\n",
    "BUCKET = \"awsembeddings\""
   ]
  },
  {
   "cell_type": "code",
   "execution_count": 3,
   "metadata": {},
   "outputs": [],
   "source": [
    "def get_list_of_all_filepaths_in_S3(bucket):\n",
    "    s3_client = boto3.client('s3')\n",
    "    try:\n",
    "        contents = s3_client.list_objects(Bucket=bucket)\n",
    "        return [content['Key'] for content in contents['Contents']]\n",
    "\n",
    "    except Exception as e:\n",
    "        pass\n",
    "    return None\n"
   ]
  },
  {
   "cell_type": "code",
   "execution_count": 4,
   "metadata": {},
   "outputs": [
    {
     "name": "stdout",
     "output_type": "stream",
     "text": [
      "174\n"
     ]
    }
   ],
   "source": [
    "s3_client = boto3.client('s3') \n",
    "\n",
    "list_of_files_in_S3 = get_list_of_all_filepaths_in_S3(BUCKET)\n",
    "print(len(list_of_files_in_S3))\n",
    "\n"
   ]
  },
  {
   "cell_type": "code",
   "execution_count": 5,
   "metadata": {},
   "outputs": [
    {
     "name": "stdout",
     "output_type": "stream",
     "text": [
      "uploads/Music_Dataset/The_Matrix_OST/01_Marilyn_Manson_-_Rock_Is_Dead.mp3\n"
     ]
    }
   ],
   "source": [
    "import random\n",
    "rdm_from_s3 = random.choice(list_of_files_in_S3)\n",
    "print(rdm_from_s3)"
   ]
  },
  {
   "cell_type": "code",
   "execution_count": 6,
   "metadata": {},
   "outputs": [
    {
     "name": "stdout",
     "output_type": "stream",
     "text": [
      "Connecting to DB: https://in03-efa63c0579a14a1.api.gcp-us-west1.zillizcloud.com\n",
      "['predictions_87', 'embeddings_512']\n"
     ]
    }
   ],
   "source": [
    "URI = \"https://in03-efa63c0579a14a1.api.gcp-us-west1.zillizcloud.com\"\n",
    "TOKEN = \"e58021f476f7b39e5d84eb5c804e27bfec1a7fb89b6e01f7560ac57877be699b9b1f109a2ba8fabefd2fa26f2efab109ebdd79f0\"\n",
    "\n",
    "connections.connect(\"default\",\n",
    "                    uri=URI,\n",
    "                    token=TOKEN)\n",
    "print(f\"Connecting to DB: {URI}\")\n",
    "print(utility.list_collections())\n",
    "\n",
    "collection_512 = Collection(\"embeddings_512\")"
   ]
  },
  {
   "cell_type": "code",
   "execution_count": 7,
   "metadata": {},
   "outputs": [],
   "source": [
    "query_path = rdm_from_s3.replace(\"uploads/\", \"\")"
   ]
  },
  {
   "cell_type": "code",
   "execution_count": 8,
   "metadata": {},
   "outputs": [],
   "source": [
    "entities = collection_512.query(\n",
    "    expr=f'path == \"{query_path}\"',\n",
    "    output_fields=[\"*\"]\n",
    ")\n",
    "embedding_512 = entities[0]['embedding']\n"
   ]
  },
  {
   "cell_type": "code",
   "execution_count": 13,
   "metadata": {},
   "outputs": [
    {
     "name": "stdout",
     "output_type": "stream",
     "text": [
      "Marilyn Manson\n",
      "The Matrix\n",
      "Rock Is Dead\n",
      "['rock', 'alternative', 'indie']\n"
     ]
    }
   ],
   "source": [
    "query_artist = entities[0]['artist']\n",
    "query_album = entities[0]['album']\n",
    "query_title = entities[0]['title']\n",
    "query_top3_genres = entities[0]['top_5_genres'][:3]\n",
    "\n",
    "print(query_artist)\n",
    "print(query_album)\n",
    "print(query_title)\n",
    "print(query_top3_genres)"
   ]
  },
  {
   "cell_type": "code",
   "execution_count": 14,
   "metadata": {},
   "outputs": [
    {
     "name": "stdout",
     "output_type": "stream",
     "text": [
      "Title                          | Artist                    | Top 5 Genres              | Path                                              \n",
      "-------------------------------------------------------------------------------------------------------------------------------------------------\n",
      "Dragula [Hot Rod Herman Remix  | Rob Zombie                | electronic, rock          | Music_Dataset/The_Matrix_OST/08_Rob_Zombie_-_Drag  | \n",
      "Wake Up                        | Rage Against The Machine  | rock, alternative         | Music_Dataset/The_Matrix_OST/13_Rage_Against_The_  | \n",
      "Aimable à souhait              | Mass Hysteria             | rock, metal               | Music_Dataset/Mass_Hysteria/03 - Aimable à souhai  | \n",
      "Grave Robbing U.S.A.           | Murderdolls               | rock, metal               | Music_Dataset/Murderdolls/Murderdolls_-_Grave_Rob  | \n",
      "N.P.F.S.                       | No Place For Soul         | rock, electronic          | Music_Dataset/No_Place_For_Soul/09 N.P.F.S.mp3     | \n",
      "All Apologies                  | Nirvana                   | rock, alternative         | Music_Dataset/Nirvana/12._All_Apologies.mp3        | \n",
      "Finister amer                  | Mass Hysteria             | rock, alternative         | Music_Dataset/Mass_Hysteria/05 - Finister amer.mp  | \n",
      "Rape Me                        | Nirvana                   | rock, alternative         | Music_Dataset/Nirvana/04._Rape_Me.mp3              | \n",
      "Pennyroyal Tea                 | Nirvana                   | rock, alternative         | Music_Dataset/Nirvana/09._Pennyroyal_Tea.mp3       | \n",
      "Dead In Hollywood              | Murderdolls               | metal, rock               | Music_Dataset/Murderdolls/Murderdolls_-_Dead_In_H  | \n",
      "So High So Low                 | Ben Harper                | rock, alternative         | Music_Dataset/Ben_Harper/11_-_Ben_harper_-_So_hig  | \n",
      "K.Nibal$                       | No Place For Soul         | metal, alternative        | Music_Dataset/No_Place_For_Soul/01 K.Nibal$.mp3    | \n",
      "197666                         | Murderdolls               | rock, metal               | Music_Dataset/Murderdolls/Murderdolls_-_197666.mp  | \n",
      "Contraddiction                 | Mass Hysteria             | rock, metal               | Music_Dataset/Mass_Hysteria/01 - Contraddiction.m  | \n",
      "My Generation                  | Limp Bizkit               | rock, alternative         | Music_Dataset/Limp_Bizkit/03-My_Generation.mp3     | \n",
      "Ready for war, ready for whut  | Birdy Nam Nam             | electronic, experimental  | Music_Dataset/Birdy_Nam_Nam/01 Ready for war, rea  | \n",
      "Hot Dog                        | Limp Bizkit               | rock, metal               | Music_Dataset/Limp_Bizkit/02-Hot_Dog.mp3           | \n",
      "Rollin' (Air Raid Vehicle)     | Limp Bizkit               | rock, metal               | Music_Dataset/Limp_Bizkit/06-Rollin'_(Air_Raid_Ve  | \n",
      "the_distillers_-_Lordy_Lordy.  | Music_Dataset/The_Distillers | rock, punkrock            | Music_Dataset/The_Distillers/the_distillers_-_Lor  | \n",
      "Drain the Blood                | The Distillers            | rock, alternative         | Music_Dataset/The_Distillers/The_Distillers_-_Dra  | \n"
     ]
    }
   ],
   "source": [
    "bigresult = collection_512.search(\n",
    "    data=[embedding_512],\n",
    "    anns_field=\"embedding\",\n",
    "    param={\"nprobe\": 16},\n",
    "    limit=200,\n",
    "    offset=1,\n",
    "    output_fields=[\"*\"],\n",
    ")\n",
    "\n",
    "print(f'{\"Title\":<30} | {\"Artist\":<25} | {\"Top 5 Genres\":<25} | {\"Path\":<50}')\n",
    "print('-' * 145)\n",
    "\n",
    "already_proposed_artits = []\n",
    "count = 0\n",
    "for result in bigresult[0]:\n",
    "    if count >= 20:\n",
    "        break\n",
    "    already_proposed_artits.append(result.artist)\n",
    "    count += 1\n",
    "    print(f\"{result.title[:29]:<30} | {result.artist[:39]:<25} | {', '.join(result.top_5_genres[:2]):<25} | {result.path[:49]:<50} | \")"
   ]
  }
 ],
 "metadata": {
  "kernelspec": {
   "display_name": ".venv",
   "language": "python",
   "name": "python3"
  },
  "language_info": {
   "codemirror_mode": {
    "name": "ipython",
    "version": 3
   },
   "file_extension": ".py",
   "mimetype": "text/x-python",
   "name": "python",
   "nbconvert_exporter": "python",
   "pygments_lexer": "ipython3",
   "version": "3.10.12"
  }
 },
 "nbformat": 4,
 "nbformat_minor": 2
}
