{
 "cells": [
  {
   "cell_type": "code",
   "execution_count": 1,
   "metadata": {},
   "outputs": [],
   "source": [
    "import os\n",
    "import boto3\n",
    "import pickle\n",
    "import numpy\n",
    "import music_tag\n",
    "import random\n",
    "import json\n",
    "from pathlib import Path\n",
    "\n",
    "from utils.music_utils import *\n",
    "\n",
    "import numpy as np\n",
    "from pymilvus import connections, utility\n",
    "from pymilvus import Collection, DataType, FieldSchema, CollectionSchema"
   ]
  },
  {
   "cell_type": "code",
   "execution_count": 2,
   "metadata": {},
   "outputs": [],
   "source": [
    "from dotenv import load_dotenv\n",
    "load_dotenv()\n",
    "\n",
    "URI = os.getenv(\"MILVUS_URI\")\n",
    "TOKEN = os.getenv(\"MILVUS_TOKEN\")\n",
    "BUCKET = os.getenv(\"BUCKET\")"
   ]
  },
  {
   "cell_type": "code",
   "execution_count": 3,
   "metadata": {},
   "outputs": [],
   "source": [
    "def get_list_of_all_filepaths_in_S3(bucket):\n",
    "    s3_client = boto3.client('s3')\n",
    "    try:\n",
    "        contents = s3_client.list_objects(Bucket=bucket)\n",
    "        return [content['Key'] for content in contents['Contents']]\n",
    "\n",
    "    except Exception as e:\n",
    "        pass\n",
    "    return None"
   ]
  },
  {
   "cell_type": "code",
   "execution_count": 4,
   "metadata": {},
   "outputs": [
    {
     "name": "stdout",
     "output_type": "stream",
     "text": [
      "174\n"
     ]
    }
   ],
   "source": [
    "s3_client = boto3.client('s3') \n",
    "\n",
    "list_of_files_in_S3 = get_list_of_all_filepaths_in_S3(BUCKET)\n",
    "print(len(list_of_files_in_S3))"
   ]
  },
  {
   "cell_type": "code",
   "execution_count": 5,
   "metadata": {},
   "outputs": [
    {
     "name": "stdout",
     "output_type": "stream",
     "text": [
      "uploads/Music_Dataset/Moriarty/03-moriarty-private_lily.mp3\n"
     ]
    }
   ],
   "source": [
    "import random\n",
    "rdm_from_s3 = random.choice(list_of_files_in_S3)\n",
    "print(rdm_from_s3)"
   ]
  },
  {
   "cell_type": "code",
   "execution_count": 6,
   "metadata": {},
   "outputs": [
    {
     "name": "stdout",
     "output_type": "stream",
     "text": [
      "MegaSet/Moriarty/Moriarty - 2007 - Gee Whiz But this is A Lonesome Town/03-moriarty-private_lily.mp3\n"
     ]
    }
   ],
   "source": [
    "# the paths in S3 have changed, so we need to update them\n",
    "song_from_s3 = rdm_from_s3.split('/')[-1]\n",
    "song_from_s3\n",
    "\n",
    "# loop over every pkl files in Path('MegaSet'), read the data['filename']\n",
    "# if the filename is the same as the song_from_s3, then we have the correct pkl file\n",
    "\n",
    "for pkl_file in Path('MegaSet').rglob('*.pkl'):\n",
    "    with open(pkl_file, 'rb') as f:\n",
    "        data = pickle.load(f)\n",
    "        if data['filename'] == song_from_s3:\n",
    "            query_path = pkl_file.with_suffix('.mp3')\n",
    "            print(query_path)\n",
    "            break"
   ]
  },
  {
   "cell_type": "code",
   "execution_count": 7,
   "metadata": {},
   "outputs": [
    {
     "name": "stdout",
     "output_type": "stream",
     "text": [
      "Connecting to DB: https://in03-efa63c0579a14a1.api.gcp-us-west1.zillizcloud.com\n",
      "['predictions_87', 'embeddings_512']\n"
     ]
    }
   ],
   "source": [
    "connections.connect(\"default\",\n",
    "                    uri=URI,\n",
    "                    token=TOKEN)\n",
    "print(f\"Connecting to DB: {URI}\")\n",
    "print(utility.list_collections())\n",
    "\n",
    "collection_512 = Collection(\"embeddings_512\")"
   ]
  },
  {
   "cell_type": "code",
   "execution_count": 8,
   "metadata": {},
   "outputs": [],
   "source": [
    "entities = collection_512.query(\n",
    "    expr=f'path == \"{query_path}\"',\n",
    "    output_fields=[\"*\"]\n",
    ")\n",
    "embedding_512 = entities[0]['embedding']"
   ]
  },
  {
   "cell_type": "code",
   "execution_count": 9,
   "metadata": {},
   "outputs": [
    {
     "name": "stdout",
     "output_type": "stream",
     "text": [
      "Moriarty\n",
      "Gee Whiz but This Is a Lonesome Town\n",
      "Private Lily\n",
      "['folk', 'pop', 'alternative']\n"
     ]
    }
   ],
   "source": [
    "query_artist = entities[0]['artist']\n",
    "query_album = entities[0]['album']\n",
    "query_title = entities[0]['title']\n",
    "query_top3_genres = entities[0]['top_5_genres'][:3]\n",
    "\n",
    "print(query_artist)\n",
    "print(query_album)\n",
    "print(query_title)\n",
    "print(query_top3_genres)"
   ]
  },
  {
   "cell_type": "code",
   "execution_count": 10,
   "metadata": {},
   "outputs": [
    {
     "name": "stdout",
     "output_type": "stream",
     "text": [
      "Title                          | Artist                    | Top 5 Genres              | Path                                              \n",
      "-------------------------------------------------------------------------------------------------------------------------------------------------\n",
      "Cottonflower                   | Moriarty                  | pop, folk                 | MegaSet/Moriarty/Moriarty - 2007 - Gee Whiz But t  | \n",
      "Dans mon café préféré          | Volo                      | pop, rock                 | MegaSet/Volo/2005  Bien zarbos/16 - Café préféré.  | \n",
      "Jimmy                          | Moriarty                  | pop, blues                | MegaSet/Nova Tunes/Nova Tunes 17/09-moriarty-jimm  | \n",
      "Motel                          | Moriarty                  | blues, pop                | MegaSet/Moriarty/Moriarty - 2007 - Gee Whiz But t  | \n",
      "Whiteman’s Ballad              | Moriarty                  | pop, folk                 | MegaSet/Moriarty/Moriarty - 2007 - Gee Whiz But t  | \n",
      "Jimmy                          | Moriarty                  | pop, blues                | MegaSet/Moriarty/Moriarty - 2007 - Gee Whiz But t  | \n",
      "How the Heart Approaches What  | Paul Simon                | pop, rock                 | MegaSet/Paul Simon/Paul Simon - (1980) - One Tric  | \n",
      "Moi d'abord                    | Les Wriggles              | folk, pop                 | MegaSet/les Wriggles/Les Wriggles - 2005 - Moi d'  | \n",
      "Rainbow                        | Jack Johnson              | folk, pop                 | MegaSet/Jack Johnson/Jack Johnson - 2008 - Thicke  | \n",
      "Lovelinesse                    | Moriarty                  | folk, pop                 | MegaSet/Moriarty/Moriarty - 2007 - Gee Whiz But t  | \n",
      "Animals Can’t Laugh            | Moriarty                  | pop, alternative          | MegaSet/Moriarty/Moriarty - 2007 - Gee Whiz But t  | \n",
      "Survive in This World          | Yellow Umbrella           | reggae, pop               | MegaSet/Yellow Umbrella/Yellow Umbrella [2003] -   | \n",
      "All That I Need Is Love        | Melody Gardot             | jazz, pop                 | MegaSet/Melody Gardot/Melody Gardot - Worrisome H  | \n",
      "Tu es                          | Volo                      | pop, rock                 | MegaSet/Volo/2007  Jours Heureux/Volo - tu es.mp3  | \n",
      "Marteau-piqueur                | Têtes Raides              | folk, pop                 | MegaSet/Têtes Raides/Têtes Raides - 2011 - L'an d  | \n",
      "Ones and Zeros                 | Jack Johnson              | pop, folk                 | MegaSet/Jack Johnson/Jack Johnson - 2013 - From H  | \n",
      "Señorita With a Necklace of T  | Paul Simon                | pop, folk                 | MegaSet/Paul Simon/Paul Simon - (2000) - You're t  | \n",
      "Ten Million Miles              | Martin Jondo              | pop, folk                 | MegaSet/Martin Jondo/Martin Jondo - Pure [2009]/0  | \n",
      "Inch' Allah                    | Mon côté punk             | pop, folk                 | MegaSet/Mon Côté Punk/11 - Inch-Allah.mp3          | \n",
      "Sometimes                      | Ayo                       | pop, folk                 | MegaSet/Ayo/Ayo - 2008 - Gravity At Last/10 Ayo -  | \n"
     ]
    }
   ],
   "source": [
    "bigresult = collection_512.search(\n",
    "    data=[embedding_512],\n",
    "    anns_field=\"embedding\",\n",
    "    param={\"nprobe\": 16},\n",
    "    limit=200,\n",
    "    offset=1,\n",
    "    output_fields=[\"*\"],\n",
    ")\n",
    "\n",
    "print(f'{\"Title\":<30} | {\"Artist\":<25} | {\"Top 5 Genres\":<25} | {\"Path\":<50}')\n",
    "print('-' * 145)\n",
    "\n",
    "already_proposed_artits = []\n",
    "count = 0\n",
    "for result in bigresult[0]:\n",
    "    if count >= 20:\n",
    "        break\n",
    "    already_proposed_artits.append(result.artist)\n",
    "    count += 1\n",
    "    print(f\"{result.title[:29]:<30} | {result.artist[:39]:<25} | {', '.join(result.top_5_genres[:2]):<25} | {result.path[:49]:<50} | \")"
   ]
  }
 ],
 "metadata": {
  "kernelspec": {
   "display_name": ".venv",
   "language": "python",
   "name": "python3"
  },
  "language_info": {
   "codemirror_mode": {
    "name": "ipython",
    "version": 3
   },
   "file_extension": ".py",
   "mimetype": "text/x-python",
   "name": "python",
   "nbconvert_exporter": "python",
   "pygments_lexer": "ipython3",
   "version": "3.10.12"
  }
 },
 "nbformat": 4,
 "nbformat_minor": 2
}
