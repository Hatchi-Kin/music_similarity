{
 "cells": [
  {
   "cell_type": "code",
   "execution_count": 1,
   "metadata": {},
   "outputs": [],
   "source": [
    "import os\n",
    "import random\n",
    "import json\n",
    "import pickle\n",
    "\n",
    "from music_utils import *\n",
    "import music_tag\n",
    "\n",
    "from pathlib import Path\n",
    "import numpy as np\n",
    "\n",
    "from pymilvus import connections, utility\n",
    "from pymilvus import Collection, DataType, FieldSchema, CollectionSchema"
   ]
  },
  {
   "cell_type": "code",
   "execution_count": 2,
   "metadata": {},
   "outputs": [
    {
     "name": "stdout",
     "output_type": "stream",
     "text": [
      "Number of valid files: 174 | Number of invalid files: 0\n"
     ]
    }
   ],
   "source": [
    "DATASET = Path(\"Music_Dataset\")\n",
    "pkl_files = list(DATASET.rglob('*.pkl'))\n",
    "valid_files = [check_file_info(pkl_file) for pkl_file in pkl_files]\n",
    "print(f\"Number of valid files: {sum(valid_files)} | Number of invalid files: {len(valid_files) - sum(valid_files)}\")"
   ]
  },
  {
   "cell_type": "code",
   "execution_count": 3,
   "metadata": {},
   "outputs": [],
   "source": [
    "URI = \"https://in03-efa63c0579a14a1.api.gcp-us-west1.zillizcloud.com\"\n",
    "\n",
    "TOKEN = \"e58021f476f7b39e5d84eb5c804e27bfec1a7fb89b6e01f7560ac57877be699b9b1f109a2ba8fabefd2fa26f2efab109ebdd79f0\"\n"
   ]
  },
  {
   "cell_type": "code",
   "execution_count": 4,
   "metadata": {},
   "outputs": [
    {
     "name": "stdout",
     "output_type": "stream",
     "text": [
      "Connecting to DB: https://in03-efa63c0579a14a1.api.gcp-us-west1.zillizcloud.com\n",
      "['predictions_87', 'embeddings_512']\n"
     ]
    }
   ],
   "source": [
    "# connect to milvus\n",
    "connections.connect(\"default\",\n",
    "                    uri=URI,\n",
    "                    token=TOKEN)\n",
    "print(f\"Connecting to DB: {URI}\")\n",
    "print(utility.list_collections())"
   ]
  },
  {
   "cell_type": "code",
   "execution_count": 5,
   "metadata": {},
   "outputs": [],
   "source": [
    "collection_512 = Collection(\"embeddings_512\")"
   ]
  },
  {
   "cell_type": "code",
   "execution_count": 6,
   "metadata": {},
   "outputs": [
    {
     "name": "stdout",
     "output_type": "stream",
     "text": [
      "Number of hiphop songs: 77\n",
      "Number of songs that are both hiphop and jazz:  5\n"
     ]
    }
   ],
   "source": [
    "entities = collection_512.query(\n",
    "    expr='array_contains(top_5_genres, \"hiphop\")',\n",
    "    output_fields=[\"count(*)\"]\n",
    ")\n",
    "\n",
    "print(f\"Number of hiphop songs: {entities[0]['count(*)']}\")\n",
    "\n",
    "entities = collection_512.query(\n",
    "    expr='array_contains_all(top_5_genres, [\"hiphop\", \"jazz\"])',\n",
    "    output_fields=[\"count(*)\"]\n",
    ")\n",
    "\n",
    "print(\"Number of songs that are both hiphop and jazz: \", entities[0]['count(*)'])"
   ]
  },
  {
   "cell_type": "code",
   "execution_count": 7,
   "metadata": {},
   "outputs": [],
   "source": [
    "# custom_playlist = [\n",
    "#     \"MegaSet/Charles Schillings/Overground House III/01 Sly's ride.mp3\",\n",
    "#     \"MegaSet/Charles Schillings/Overground House III/02 The Session [Ghetto Mix].mp3\",\n",
    "#     \"MegaSet/Charles Schillings/Overground House III/03 Lemon Puff [Original Mix].mp3\",\n",
    "#     \"MegaSet/Charles Schillings/Overground House III/05 Livin in Da Projects.mp3\",\n",
    "#     \"MegaSet/Charles Schillings/Overground House III/08 West Coast Movement.mp3\",\n",
    "#     \"MegaSet/Charles Schillings/Overground House III/10 I Get Lifted [PJ's Uplifting MX].mp3\"\n",
    "# ]\n",
    "\n",
    "custom_playlist = [\n",
    "    \"Music_Dataset/Jurassic_5/003_Great_Expectations.mp3\",\n",
    "    \"Music_Dataset/Jurassic_5/005_Quality_Control.mp3\",\n",
    "    \"Music_Dataset/Jurassic_5/010_Jurass_Finish_First.mp3\",\n",
    "]\n"
   ]
  },
  {
   "cell_type": "code",
   "execution_count": 8,
   "metadata": {},
   "outputs": [
    {
     "name": "stdout",
     "output_type": "stream",
     "text": [
      "Playlist artists: ['Jurassic 5']\n",
      "Playlist genres: ['hiphop', 'rap', '90s', 'soul', 'electronic', 'alternative', 'rock']\n"
     ]
    }
   ],
   "source": [
    "playlist_embeddings = []\n",
    "playlist_artists = []\n",
    "playlist_genres = []\n",
    "\n",
    "for song in custom_playlist:\n",
    "    res = collection_512.query(expr=f'path == \"{song}\"', output_fields=[\"*\"])\n",
    "\n",
    "    playlist_embeddings.append(res[0][\"embedding\"])\n",
    "    if res[0][\"artist\"] not in playlist_artists:\n",
    "        playlist_artists.append(res[0][\"artist\"])\n",
    "\n",
    "    for g in res[0][\"top_5_genres\"]:\n",
    "        if g not in playlist_genres:\n",
    "            playlist_genres.append(g)\n",
    "\n",
    "print(f\"Playlist artists: {playlist_artists}\")\n",
    "print(f\"Playlist genres: {playlist_genres}\")"
   ]
  },
  {
   "cell_type": "code",
   "execution_count": 9,
   "metadata": {},
   "outputs": [
    {
     "name": "stdout",
     "output_type": "stream",
     "text": [
      "Playlist embedding shape: (512,)\n"
     ]
    }
   ],
   "source": [
    "playlist_embedding = np.mean(playlist_embeddings, axis=0)\n",
    "print(f\"Playlist embedding shape: {playlist_embedding.shape}\")"
   ]
  },
  {
   "cell_type": "code",
   "execution_count": 10,
   "metadata": {},
   "outputs": [
    {
     "name": "stdout",
     "output_type": "stream",
     "text": [
      "Title                          | Artist                                   | Top 5 Genres\n",
      "---------------------------------------------------------------------------\n",
      "Great Expectations             | Jurassic 5                               | hiphop, rap, 90s, soul, electronic\n",
      "Jurass Finish First            | Jurassic 5                               | hiphop, rap, electronic, alternative, rock\n",
      "The River                      | Cyne                                     | hiphop, rap, electronic, experimental, soul\n",
      "Stomping Ground                | Cyne                                     | hiphop, rap, electronic, soul, pop\n",
      "Push It Along                  | Q-Tip, Phife Dawg, Jarobi White          | hiphop, rap, electronic, reggae, pop\n",
      "The Watcher                    | Dr. Dre                                  | hiphop, rap, electronic, pop, triphop\n",
      "diversité                      | Dub Incorporation                        | reggae, rock, hiphop, funk, world\n",
      "Safe from Harm                 | Massive Attack                           | electronic, hiphop, rock, ambient, pop\n",
      "I Left My Wallet In El Segund  | Q-Tip, Ali Shaheed Muhammad              | hiphop, rap, electronic, pop, funk\n",
      "The Next Episode               | Dr. Dre                                  | hiphop, rap, electronic, pop, rock\n",
      "Take It Back (feat. Blezz)     | Soul Square                              | hiphop, rap, electronic, pop, triphop\n",
      "rudeboy                        | Dub Incorporation                        | reggae, rock, dub, pop, world\n",
      "Routine                        | Dajla                                    | hiphop, rap, electronic, soul, pop\n",
      "murderer                       | Dub Incorporation                        | reggae, rock, pop, funk, hiphop\n",
      "Living the Dream (feat. Justi  | Soul Square                              | hiphop, rap, electronic, soul, jazz\n",
      "Taylor                         | Jack Johnson                             | pop, rock, reggae, funk, world\n",
      "Hold The Line feat. Mr. Lexx   | Major Lazer                              | electronic, hiphop, reggae, rap, experimental\n",
      "07 Natalia Poutine.mp3         | Music_Dataset/Les_Blaireaux              | pop, rock, alternative, indie, electronic\n",
      "Can I Kick It?                 | Q-Tip, Phife Dawg                        | hiphop, electronic, rap, jazz, experimental\n",
      "The Irony Of It All            | The Streets                              | hiphop, rap, pop, electronic, reggae\n"
     ]
    }
   ],
   "source": [
    "bigresult = collection_512.search(\n",
    "    data=[playlist_embedding],\n",
    "    anns_field=\"embedding\",\n",
    "    param={\"nprobe\": 16},\n",
    "    limit=200,\n",
    "    offset=1,\n",
    "    output_fields=[\"*\"],\n",
    ")\n",
    "\n",
    "print(f'{\"Title\":<30} | {\"Artist\":<40} | {\"Top 5 Genres\"}')\n",
    "print('-' * 75)\n",
    "\n",
    "already_proposed_artits = []\n",
    "count = 0\n",
    "for result in bigresult[0]:\n",
    "    # if result.artist in already_proposed_artits or result.artist in playlist_artists:\n",
    "    #     continue\n",
    "    if count >= 20:\n",
    "        break\n",
    "    already_proposed_artits.append(result.artist)\n",
    "    count += 1\n",
    "    print(f\"{result.title[:29]:<30} | {result.artist[:39]:<40} | {', '.join(result.top_5_genres)}\")"
   ]
  },
  {
   "cell_type": "code",
   "execution_count": 11,
   "metadata": {},
   "outputs": [],
   "source": [
    "########## 87\n",
    "\n",
    "with open(\"mtg_jamendo_genre.json\", \"r\") as json_file:\n",
    "    metadata = json.load(json_file)\n",
    "classes = metadata.get(\"classes\")\n",
    "\n",
    "collection_87 = Collection(\"predictions_87\")\n",
    "playlist_predictions = []\n",
    "playlist_artists = []\n",
    "\n",
    "for song in custom_playlist:\n",
    "    res = collection_87.query(expr=f'path == \"{song}\"', output_fields=[\"artist\", \"predictions\"])\n",
    "    res = res[0]\n",
    "    \n",
    "    playlist_predictions.append(res[\"predictions\"])\n",
    "    if res[\"artist\"] not in playlist_artists:\n",
    "        playlist_artists.append(res[\"artist\"])\n",
    "\n"
   ]
  },
  {
   "cell_type": "code",
   "execution_count": 12,
   "metadata": {},
   "outputs": [
    {
     "name": "stdout",
     "output_type": "stream",
     "text": [
      "Playlist artists: ['Jurassic 5']\n",
      "Playlist predictions: [[0.0013561121, 0.00057304115, 0.00069029984, 0.09263372, 0.00074206135, 0.010837744, 0.00060172816, 0.004662987, 0.0020237546, 0.0012273043, 0.00015978263, 0.0006087941, 0.0088273045, 0.00039458557, 0.0004640753, 0.004332052, 0.00023116909, 0.0063080713, 0.00034133106, 0.002614097, 0.00028117298, 0.0013932756, 0.009331943, 0.0002731497, 0.00028286656, 0.00025685967, 0.0013005851, 0.002648593, 0.002223965, 0.0048973216, 0.0006930198, 0.0065973434, 0.00042433664, 0.032592017, 0.00048129453, 0.002725406, 0.00051602814, 0.00066295685, 0.012060542, 0.003621304, 0.027738463, 0.0024628413, 0.007220207, 0.00033110954, 0.001311293, 0.000271172, 0.904924, 0.0018328312, 0.0004867415, 0.00021052735, 0.0028211277, 0.001960091, 0.004228502, 0.0005345355, 0.013525597, 0.0005509744, 0.0055779805, 0.0030894275, 0.00012433247, 0.0009487523, 0.00023017412, 0.00026413752, 0.0006188254, 0.0030607951, 0.028547589, 0.0053484165, 0.0034344995, 0.00040813096, 0.00081106945, 0.00065162894, 0.002119018, 0.509531, 0.02132664, 0.015585169, 0.016256392, 0.0014654333, 0.0018371093, 0.04668368, 0.010435253, 0.004674288, 0.0005746486, 0.00020949834, 0.0010959266, 0.000440515, 0.026594164, 0.019391965, 0.0012243516], [0.0013561388, 0.0008258845, 0.0006860795, 0.043299325, 0.0013930174, 0.0253178, 0.0008526714, 0.0073229955, 0.001926521, 0.0019767452, 0.00025129368, 0.0004926457, 0.014634289, 0.0002482059, 0.00043161906, 0.0039875493, 0.00023215087, 0.0034639572, 0.00028691086, 0.0046517667, 0.00024650065, 0.0012676752, 0.015017911, 0.00044781304, 0.00036986382, 0.00060070364, 0.0030140914, 0.0033208488, 0.0038088765, 0.008683425, 0.0017588211, 0.007558797, 0.0006879627, 0.1317688, 0.0008039724, 0.0053611803, 0.0005306759, 0.0007864948, 0.022570796, 0.0021549773, 0.038564704, 0.0035181164, 0.009663008, 0.00078115135, 0.001578098, 0.00054968847, 0.8144518, 0.005443835, 0.0008490917, 0.00043769335, 0.0038325454, 0.0033331045, 0.010547944, 0.0012320958, 0.01401988, 0.00064350705, 0.0024911808, 0.006079016, 9.242092e-05, 0.002099202, 0.0002792618, 0.00035766285, 0.0007871389, 0.002289389, 0.04245016, 0.0033440946, 0.004085671, 0.00038936237, 0.001536752, 0.001344858, 0.0034540321, 0.4332142, 0.031563703, 0.026142813, 0.021421717, 0.0011588553, 0.0013864798, 0.046227545, 0.012974154, 0.0031734768, 0.000579779, 0.00057565706, 0.0029236, 0.0012715495, 0.030908212, 0.0055252975, 0.0014093155], [0.002407805, 0.0010875164, 0.001228829, 0.045208137, 0.001565764, 0.057890765, 0.0017633326, 0.01856618, 0.0048227655, 0.006764726, 0.00070979854, 0.0011485575, 0.01141597, 0.0011901553, 0.0020261868, 0.00795671, 0.00064323767, 0.012264404, 0.0007109627, 0.0041246284, 0.000984674, 0.0033777878, 0.010838095, 0.0019728653, 0.0012916421, 0.0007596462, 0.0023418232, 0.0069880844, 0.0051110378, 0.009743278, 0.002655797, 0.01422445, 0.0008398507, 0.13735773, 0.0012295248, 0.0061194785, 0.0019171473, 0.0006995875, 0.046580706, 0.009940897, 0.043103494, 0.004635976, 0.0079017915, 0.0021787777, 0.001779779, 0.0016137367, 0.6553805, 0.006088485, 0.0014719989, 0.0019570694, 0.016617365, 0.006646419, 0.013494043, 0.0061120214, 0.039674275, 0.0018752707, 0.004839286, 0.006429426, 0.00037884212, 0.0062305694, 0.00097150623, 0.0019167882, 0.001696914, 0.005927453, 0.05235875, 0.007473848, 0.009249214, 0.00161777, 0.0020993217, 0.0032780794, 0.008486606, 0.30593318, 0.0266691, 0.019938815, 0.05313879, 0.002373183, 0.0038110658, 0.026231015, 0.042516075, 0.007362093, 0.0017419992, 0.0018206807, 0.0039658546, 0.0011600676, 0.037246373, 0.013160637, 0.0019849015]]\n"
     ]
    }
   ],
   "source": [
    "print(f\"Playlist artists: {playlist_artists}\")\n",
    "print(f\"Playlist predictions: {playlist_predictions}\")"
   ]
  },
  {
   "cell_type": "code",
   "execution_count": 13,
   "metadata": {},
   "outputs": [
    {
     "name": "stdout",
     "output_type": "stream",
     "text": [
      "hiphop: 0.7915854454040527\n",
      "rap: 0.4162261486053467\n",
      "electronic: 0.1005728468298912\n",
      "90s: 0.060380395501852036\n",
      "pop: 0.04111883044242859\n"
     ]
    }
   ],
   "source": [
    "playlist_predictions = np.mean(playlist_predictions, axis=0)\n",
    "sorted_indices = playlist_predictions.argsort()\n",
    "top_5_indices = sorted_indices[-5:][::-1]\n",
    "for i in top_5_indices:\n",
    "    print(f\"{classes[i]}: {playlist_predictions[i]}\")"
   ]
  },
  {
   "cell_type": "code",
   "execution_count": 14,
   "metadata": {},
   "outputs": [
    {
     "name": "stdout",
     "output_type": "stream",
     "text": [
      "Title                          | Artist                         | Top 5 Genres\n",
      "---------------------------------------------------------------------------\n",
      "The River                      | Cyne                                     | hiphop, rap, electronic, experimental, soul\n",
      "Push It Along                  | Q-Tip, Phife Dawg, Jarobi White          | hiphop, rap, electronic, reggae, pop\n",
      "The Watcher                    | Dr. Dre                                  | hiphop, rap, electronic, pop, triphop\n",
      "diversité                      | Dub Incorporation                        | reggae, rock, hiphop, funk, world\n",
      "Safe from Harm                 | Massive Attack                           | electronic, hiphop, rock, ambient, pop\n",
      "I Left My Wallet In El Segund  | Q-Tip, Ali Shaheed Muhammad              | hiphop, rap, electronic, pop, funk\n",
      "Take It Back (feat. Blezz)     | Soul Square                              | hiphop, rap, electronic, pop, triphop\n",
      "Routine                        | Dajla                                    | hiphop, rap, electronic, soul, pop\n",
      "Taylor                         | Jack Johnson                             | pop, rock, reggae, funk, world\n",
      "Hold The Line feat. Mr. Lexx   | Major Lazer                              | electronic, hiphop, reggae, rap, experimental\n",
      "07 Natalia Poutine.mp3         | Music_Dataset/Les_Blaireaux              | pop, rock, alternative, indie, electronic\n",
      "Can I Kick It?                 | Q-Tip, Phife Dawg                        | hiphop, electronic, rap, jazz, experimental\n",
      "The Irony Of It All            | The Streets                              | hiphop, rap, pop, electronic, reggae\n",
      "Grand reporter                 | Les Blaireaux                            | reggae, pop, rock, alternative, blues\n",
      "Rehab                          | Amy Winehouse                            | pop, rock, electronic, alternative, indie\n",
      "Cyclone                        | Dub Pistols                              | electronic, hiphop, rap, pop, funk\n",
      "Changes                        | Nneka                                    | hiphop, rap, pop, electronic, soul\n",
      "NNEKA_Heartbeat.mp3            | Music_Dataset/Nneka                      | pop, hiphop, rock, electronic, indie\n",
      "Ya Better Rally                | Rockamovya                               | reggae, dub, rock, electronic, chillout\n",
      "Fuck They                      | Sofi Tukker                              | electronic, dance, pop, house, rock\n"
     ]
    }
   ],
   "source": [
    "# search for songs that are similar to the custom playlist and have at least one of the top 5 genres\n",
    "results = collection_512.search(\n",
    "    data=[playlist_embedding],\n",
    "    anns_field=\"embedding\",\n",
    "    param={\"nprobe\": 16},\n",
    "    limit=120,\n",
    "    output_fields=[\"*\"],\n",
    "    filter=f'array_contains_any(top_5_genres, [\"hiphop\", \"reggae\", \"rock\", \"funk\"])'\n",
    ")\n",
    "\n",
    "print(f'{\"Title\":<30} | {\"Artist\":<30} | {\"Top 5 Genres\"}')\n",
    "print('-' * 75)\n",
    "\n",
    "already_proposed_artits = []\n",
    "count = 0\n",
    "\n",
    "# loop over the results and print only the ones that have artist not found in already proposed AND not found in the custom playlist\n",
    "for result in results[0]:\n",
    "    if result.artist in already_proposed_artits or result.artist in playlist_artists:\n",
    "        continue\n",
    "    if count >= 20:\n",
    "        break\n",
    "    already_proposed_artits.append(result.artist)\n",
    "    count += 1\n",
    "    print(f\"{result.title[:29]:<30} | {result.artist[:39]:<40} | {', '.join(result.top_5_genres)}\")\n",
    "\n",
    "\n",
    "    "
   ]
  },
  {
   "cell_type": "code",
   "execution_count": null,
   "metadata": {},
   "outputs": [],
   "source": [
    "########################################"
   ]
  },
  {
   "cell_type": "code",
   "execution_count": 15,
   "metadata": {},
   "outputs": [
    {
     "data": {
      "text/plain": [
       "dict_keys(['filename', 'filepath', 'folder', 'filesize', 'title', 'artist', 'album', 'year', 'tracknumber', 'genre', 'predictions_87', 'embedding_512', 'top_5_genres'])"
      ]
     },
     "execution_count": 15,
     "metadata": {},
     "output_type": "execute_result"
    }
   ],
   "source": [
    "pkl_path = \"Music_Dataset/Amy_Whinehouse/01_Rehab.pkl\"\n",
    "with open(pkl_path, \"rb\") as pkl_file:\n",
    "    data = pickle.load(pkl_file)\n",
    "data.keys()\n",
    "# data[\"embedding_512\"].shape\n",
    "# data[\"folder\"]\n"
   ]
  },
  {
   "cell_type": "code",
   "execution_count": 16,
   "metadata": {},
   "outputs": [
    {
     "data": {
      "text/plain": [
       "'Amy_Whinehouse'"
      ]
     },
     "execution_count": 16,
     "metadata": {},
     "output_type": "execute_result"
    }
   ],
   "source": [
    "folder = data[\"folder\"].split(\"/\")[-1]\n",
    "folder"
   ]
  },
  {
   "cell_type": "code",
   "execution_count": 17,
   "metadata": {},
   "outputs": [
    {
     "name": "stdout",
     "output_type": "stream",
     "text": [
      "Title                          | Artist                         | Top 5 Genres\n",
      "---------------------------------------------------------------------------\n",
      "Rehab                          | Amy Winehouse                            | pop, rock, electronic, alternative, indie\n",
      "Can you get to that            | Funkadelic                               | pop, alternative, rock, folk, indie\n",
      "Wake Up                        | Rage Against The Machine                 | rock, alternative, metal, punkrock, indie\n",
      "Safe from Harm                 | Massive Attack                           | electronic, hiphop, rock, ambient, pop\n",
      "Come to Me                     | The Black Seeds                          | reggae, dub, electronic, hiphop, rock\n",
      "La grande question             | La Phaze                                 | electronic, hiphop, drumnbass, alternative, rock\n",
      "Push It Along                  | Q-Tip, Phife Dawg, Jarobi White          | hiphop, rap, electronic, reggae, pop\n",
      "Routine                        | Dajla                                    | hiphop, rap, electronic, soul, pop\n",
      "this land is your land         | Sharon Jones and the Dap-Kings           | pop, rock, reggae, alternative, funk\n",
      "Hot Dog                        | Limp Bizkit                              | rock, metal, alternative, hiphop, electronic\n",
      "Children of the Revolution     | Violent Femmes                           | rock, pop, alternative, indie, metal\n",
      "Cyclone                        | Dub Pistols                              | electronic, hiphop, rap, pop, funk\n",
      "Coolin' I                      | Rockamovya                               | reggae, dub, electronic, rock, chillout\n",
      "Changes                        | Nneka                                    | hiphop, rap, pop, electronic, soul\n",
      "Rolling In The Deep            | Adele                                    | pop, rock, indie, alternative, electronic\n",
      "The Next Episode               | Dr. Dre                                  | hiphop, rap, electronic, pop, rock\n",
      "No Doubt - The Singles 1992-2  | Music_Dataset/No_Doubt                   | rock, alternative, indie, pop, electronic\n",
      "Abbesses                       | Birdy Nam Nam                            | electronic, rock, alternative, pop, experimental\n",
      "rudeboy                        | Dub Incorporation                        | reggae, rock, dub, pop, world\n",
      "What You Do to Me (Jim Jones,  | Blakroc                                  | rock, pop, hiphop, alternative, indie\n"
     ]
    }
   ],
   "source": [
    "# propose une playlist de 20 chansons qui sont similaires et qui ne viennenet pas du meme dossier\n",
    "folder = data[\"folder\"].split(\"/\")[-1]\n",
    "\n",
    "results = collection_512.search(\n",
    "    data=[data['embedding_512']],\n",
    "    anns_field=\"embedding\",\n",
    "    param={\"nprobe\": 16},\n",
    "    limit=120,\n",
    "    output_fields=[\"*\"],\n",
    "    expr=f\"folder != '{folder}'\"\n",
    ")\n",
    "\n",
    "print(f'{\"Title\":<30} | {\"Artist\":<30} | {\"Top 5 Genres\"}')\n",
    "print('-' * 75)\n",
    "\n",
    "already_proposed_artits = []\n",
    "count = 0\n",
    "\n",
    "# loop over the results and print only the ones that have artist not found in already proposed AND not found in the custom playlist\n",
    "for result in results[0]:\n",
    "    if result.artist in already_proposed_artits or result.artist in playlist_artists:\n",
    "        continue\n",
    "    if count >= 20:\n",
    "        break\n",
    "    already_proposed_artits.append(result.artist)\n",
    "    count += 1\n",
    "    print(f\"{result.title[:29]:<30} | {result.artist[:39]:<40} | {', '.join(result.top_5_genres)}\")\n",
    "\n"
   ]
  },
  {
   "cell_type": "code",
   "execution_count": 18,
   "metadata": {},
   "outputs": [
    {
     "name": "stdout",
     "output_type": "stream",
     "text": [
      "Title                          | Artist                         | Top 5 Genres\n",
      "---------------------------------------------------------------------------\n",
      "Can you get to that            | Funkadelic                               | pop, alternative, rock, folk, indie\n",
      "Wake Up                        | Rage Against The Machine                 | rock, alternative, metal, punkrock, indie\n",
      "Safe from Harm                 | Massive Attack                           | electronic, hiphop, rock, ambient, pop\n",
      "Come to Me                     | The Black Seeds                          | reggae, dub, electronic, hiphop, rock\n",
      "La grande question             | La Phaze                                 | electronic, hiphop, drumnbass, alternative, rock\n",
      "Push It Along                  | Q-Tip, Phife Dawg, Jarobi White          | hiphop, rap, electronic, reggae, pop\n",
      "Routine                        | Dajla                                    | hiphop, rap, electronic, soul, pop\n",
      "this land is your land         | Sharon Jones and the Dap-Kings           | pop, rock, reggae, alternative, funk\n",
      "Hot Dog                        | Limp Bizkit                              | rock, metal, alternative, hiphop, electronic\n",
      "Children of the Revolution     | Violent Femmes                           | rock, pop, alternative, indie, metal\n",
      "Cyclone                        | Dub Pistols                              | electronic, hiphop, rap, pop, funk\n",
      "Coolin' I                      | Rockamovya                               | reggae, dub, electronic, rock, chillout\n",
      "Changes                        | Nneka                                    | hiphop, rap, pop, electronic, soul\n",
      "Rolling In The Deep            | Adele                                    | pop, rock, indie, alternative, electronic\n",
      "The Next Episode               | Dr. Dre                                  | hiphop, rap, electronic, pop, rock\n",
      "No Doubt - The Singles 1992-2  | Music_Dataset/No_Doubt                   | rock, alternative, indie, pop, electronic\n",
      "Abbesses                       | Birdy Nam Nam                            | electronic, rock, alternative, pop, experimental\n",
      "rudeboy                        | Dub Incorporation                        | reggae, rock, dub, pop, world\n",
      "What You Do to Me (Jim Jones,  | Blakroc                                  | rock, pop, hiphop, alternative, indie\n",
      "Fight All You Can              | Groundation                              | reggae, dub, rock, world, pop\n"
     ]
    }
   ],
   "source": [
    "# propose une playlist de 20 chansons qui sont similaires et qui ne viennenet pas du meme artiste\n",
    "\n",
    "\n",
    "results = collection_512.search(\n",
    "    data=[data['embedding_512']],\n",
    "    anns_field=\"embedding\",\n",
    "    param={\"nprobe\": 16},\n",
    "    limit=120,\n",
    "    output_fields=[\"*\"],\n",
    "    expr=f\"artist != '{data['artist']}'\"\n",
    ")\n",
    "\n",
    "print(f'{\"Title\":<30} | {\"Artist\":<30} | {\"Top 5 Genres\"}')\n",
    "print('-' * 75)\n",
    "\n",
    "already_proposed_artits = []\n",
    "count = 0\n",
    "\n",
    "# loop over the results and print only the ones that have artist not found in already proposed AND not found in the custom playlist\n",
    "for result in results[0]:\n",
    "    if result.artist in already_proposed_artits or result.artist in playlist_artists:\n",
    "        continue\n",
    "    if count >= 20:\n",
    "        break\n",
    "    already_proposed_artits.append(result.artist)\n",
    "    count += 1\n",
    "    print(f\"{result.title[:29]:<30} | {result.artist[:39]:<40} | {', '.join(result.top_5_genres)}\")\n",
    "\n"
   ]
  }
 ],
 "metadata": {
  "kernelspec": {
   "display_name": ".venv",
   "language": "python",
   "name": "python3"
  },
  "language_info": {
   "codemirror_mode": {
    "name": "ipython",
    "version": 3
   },
   "file_extension": ".py",
   "mimetype": "text/x-python",
   "name": "python",
   "nbconvert_exporter": "python",
   "pygments_lexer": "ipython3",
   "version": "3.10.12"
  }
 },
 "nbformat": 4,
 "nbformat_minor": 2
}
